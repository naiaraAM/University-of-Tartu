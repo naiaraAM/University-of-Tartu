{
 "cells": [
  {
   "cell_type": "code",
   "execution_count": 3,
   "id": "5a79ac01-d853-4cc3-921d-b7349c5b4af2",
   "metadata": {},
   "outputs": [],
   "source": [
    "a := []int{0,1,2,3,4,5,6}"
   ]
  },
  {
   "cell_type": "code",
   "execution_count": 4,
   "id": "71956996-153c-4f13-820c-66109cc64b47",
   "metadata": {},
   "outputs": [
    {
     "data": {
      "text/plain": [
       "[0 1 2 3 4 5 6]"
      ]
     },
     "execution_count": 4,
     "metadata": {},
     "output_type": "execute_result"
    }
   ],
   "source": [
    "a"
   ]
  },
  {
   "cell_type": "code",
   "execution_count": 5,
   "id": "6b14b808-3d52-4f96-9ef8-eef02c7e8709",
   "metadata": {},
   "outputs": [
    {
     "data": {
      "text/plain": [
       "[0 1 2 3 4]"
      ]
     },
     "execution_count": 5,
     "metadata": {},
     "output_type": "execute_result"
    }
   ],
   "source": [
    "a[0:len(a)-2]"
   ]
  },
  {
   "cell_type": "code",
   "execution_count": 1,
   "id": "81ac6ce7-0d9a-4b0c-82df-c27bf259037a",
   "metadata": {},
   "outputs": [
    {
     "data": {
      "text/plain": [
       "1"
      ]
     },
     "execution_count": 1,
     "metadata": {},
     "output_type": "execute_result"
    }
   ],
   "source": [
    "3/2"
   ]
  },
  {
   "cell_type": "code",
   "execution_count": 4,
   "id": "6f965583-a77b-482d-a53f-0489f92ababb",
   "metadata": {},
   "outputs": [],
   "source": [
    "import (\n",
    "    \"math\"\n",
    ")"
   ]
  },
  {
   "cell_type": "code",
   "execution_count": 5,
   "id": "aa0f3ad3-c716-4da0-a96f-d778895259b8",
   "metadata": {},
   "outputs": [
    {
     "data": {
      "text/plain": [
       "2"
      ]
     },
     "execution_count": 5,
     "metadata": {},
     "output_type": "execute_result"
    }
   ],
   "source": [
    "int(math.Ceil(float64(3) / 2))"
   ]
  },
  {
   "cell_type": "code",
   "execution_count": null,
   "id": "b651572c-28f4-4023-a5f1-b869687b7310",
   "metadata": {},
   "outputs": [],
   "source": []
  }
 ],
 "metadata": {
  "kernelspec": {
   "display_name": "Go",
   "language": "go",
   "name": "gophernotes"
  },
  "language_info": {
   "codemirror_mode": "",
   "file_extension": ".go",
   "mimetype": "",
   "name": "go",
   "nbconvert_exporter": "",
   "pygments_lexer": "",
   "version": "go1.22.4"
  }
 },
 "nbformat": 4,
 "nbformat_minor": 5
}
