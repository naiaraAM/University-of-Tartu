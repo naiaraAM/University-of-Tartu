{
 "cells": [
  {
   "metadata": {},
   "cell_type": "markdown",
   "source": "# Homework 12 - Naiara Alonso Montes",
   "id": "571bc73e9aa9551f"
  },
  {
   "metadata": {},
   "cell_type": "markdown",
   "source": "## Exercise 1",
   "id": "463aef4e9f5fbb26"
  },
  {
   "metadata": {},
   "cell_type": "markdown",
   "source": [
    "I measured the performance of all three algorithms separately. The results are shown below:\n",
    "\n",
    "<img alt=\"\" height=\"200\" src=\"ex_01/naive_representation.png\" title=\"Title\" width=\"500\"/>\n",
    "\n",
    "<img alt=\"\" height=\"200\" src=\"ex_01/kmp_representation.png\" title=\"Title\" width=\"500\"/>\n",
    "\n",
    "<img alt=\"\" height=\"200\" src=\"ex_01/bm1_representation.png\" title=\"Title\" width=\"500\"/>\n"
   ],
   "id": "ab160b0bc4caa8e1"
  },
  {
   "metadata": {},
   "cell_type": "markdown",
   "source": [
    "For the Naive algorithm I was expecting to see more differences, after I forced the worst case scenario. Apparently, for the worst case scenario in all combinations the time can be considered constant.\n",
    "\n",
    "For the KMP, it was unexpected that, the best performance was not for the smallest pattern.\n",
    "\n",
    "For the BM1, the worst performance by far is always for the smallest pattern. The best performance is for the largest pattern, but the difference is not as big as for the KMP. The time seemed to have a trendiness to constant as the alphabet size increased."
   ],
   "id": "a0ddaf0ba017d60f"
  },
  {
   "metadata": {},
   "cell_type": "markdown",
   "source": "## Exercise 2",
   "id": "ff0b80472d49fc9e"
  },
  {
   "metadata": {},
   "cell_type": "markdown",
   "source": [
    "The optimization in the naive pattern matching algorithm involves skipping more characters when a mismatch is found. Instead of moving one character at a time, the algorithm skips the length of the pattern if the last character of the current window in the text does not match the last character of the pattern. This reduces the number of comparisons and improves performance.\n",
    "\n",
    "<img alt=\"\" height=\"200\" src=\"ex_02/opt_naive.png\" title=\"Title\" width=\"500\"/>"
   ],
   "id": "dd74eb685bc4ae65"
  },
  {
   "metadata": {},
   "cell_type": "markdown",
   "source": "## Exercise 3",
   "id": "853c332b4481ddab"
  },
  {
   "metadata": {},
   "cell_type": "markdown",
   "source": [
    "For the suffix array, after sorting all, it does a binary sear, that is why it starts with the middle element. If the pattern is smaller than the suffix, it will go to the left, if it is bigger, it will go to the right. Code from <https://www.geeksforgeeks.org/suffix-array-set-1-introduction/>\n",
    "```console\n",
    "Suffixes before sorting:\n",
    "('bananabanaba', 0)\n",
    "('ananabanaba', 1)\n",
    "('nanabanaba', 2)\n",
    "('anabanaba', 3)\n",
    "('nabanaba', 4)\n",
    "('abanaba', 5)\n",
    "('banaba', 6)\n",
    "('anaba', 7)\n",
    "('naba', 8)\n",
    "('aba', 9)\n",
    "('ba', 10)\n",
    "('a', 11)\n",
    "Suffixes after sorting:\n",
    "('a', 11)\n",
    "('aba', 9)\n",
    "('abanaba', 5)\n",
    "('anaba', 7)\n",
    "('anabanaba', 3)\n",
    "('ananabanaba', 1)\n",
    "('ba', 10)\n",
    "('banaba', 6)\n",
    "('bananabanaba', 0)\n",
    "('naba', 8)\n",
    "('nabanaba', 4)\n",
    "('nanabanaba', 2)\n",
    "Suffix array: [11, 9, 5, 7, 3, 1, 10, 6, 0, 8, 4, 2]\n",
    "Searching at index 5: comparing 'ana' with 'aba'\n",
    "Searching at index 2: comparing 'aba' with 'aba'\n",
    "Pattern found at index 5\n",
    "```"
   ],
   "id": "753c76d352a3cad4"
  },
  {
   "metadata": {},
   "cell_type": "markdown",
   "source": [
    "The difference with suffix array is that suffix trie is able to find all patterns and not just the first coincidence. The code is from <https://www.geeksforgeeks.org/pattern-searching-using-suffix-tree/>\n",
    "```console\n",
    "Search for 'aba'\n",
    "Pattern found at position 5\n",
    "Pattern found at position 9\n",
    "```\n",
    "\n",
    "For the suffix compact tree the results are the same, the difference lies in how they represent the data. For example, I tried to stree both approaches. For a really long word (the orinial word but appended multiple times), the trie did not found all the coincidences, but the compact tree did."
   ],
   "id": "8d050354d690b616"
  },
  {
   "metadata": {},
   "cell_type": "markdown",
   "source": "## Exercise 4",
   "id": "db8437708b9059ab"
  },
  {
   "metadata": {},
   "cell_type": "markdown",
   "source": "Sorry, I didn't have time for this :(",
   "id": "f1af0a80d5c433c5"
  },
  {
   "metadata": {},
   "cell_type": "markdown",
   "source": [
    "## Exercise 5\n",
    "\n",
    "I choose to compare the time performance for `grep`, `awk` and `sed`. I generated a random text file with 20 million characters, and among them I searched an easy pattern, `aaa`. The results are shown below:\n",
    "\n",
    "<img alt=\"\" height=\"200\" src=\"ex_05/results.png\" title=\"Title\" width=\"500\"/>\n",
    "\n",
    "\n",
    "The fastest is `sed`, with no user time (or near 0). The slowest is `grep`, but surprinsingly it is the one I am used to use the most. `awk` has a good balance among user and system time.\n"
   ],
   "id": "de1c5413990d3a4d"
  },
  {
   "metadata": {},
   "cell_type": "markdown",
   "source": [
    "## Exercise 6\n",
    "\n",
    "My feedback of the course is neutral. I felt that attending the lectures was kind of  useless, as they are done without slides and sometimes it is easier to get lost. Besides, some of the things necessary for the homeworks were not explain during the lectures.\n",
    "\n",
    "On the other hand I have a good opinion about homeworks, at first they were horrible, so much time consumming, but after we complained and provided some feedback, the situation improved.\n",
    "\n",
    "The topic about AI, I am in favour of using it. In my personal case I have used it a lot, mainly because I did not really understood the exercise statement (which sometime were not clear at all). It also helped to make the homeworks less tedious."
   ],
   "id": "1c5133b55748e394"
  },
  {
   "metadata": {},
   "cell_type": "markdown",
   "source": "## Exercise 7",
   "id": "1f2ac5719cd2b2ac"
  },
  {
   "metadata": {},
   "cell_type": "markdown",
   "source": "Everything is attached in the separate PDF, in the zip file.",
   "id": "dfb4e1ec62da34b3"
  },
  {
   "metadata": {
    "ExecuteTime": {
     "end_time": "2024-12-09T19:54:15.855875Z",
     "start_time": "2024-12-09T19:54:14.492222Z"
    }
   },
   "cell_type": "code",
   "source": "!jupyter nbconvert --to html HW12.ipynb",
   "id": "c17e3bde5e1ec7e0",
   "outputs": [
    {
     "name": "stdout",
     "output_type": "stream",
     "text": [
      "[NbConvertApp] Converting notebook HW12.ipynb to html\r\n",
      "[NbConvertApp] Writing 282560 bytes to HW12.html\r\n"
     ]
    }
   ],
   "execution_count": 2
  }
 ],
 "metadata": {
  "kernelspec": {
   "display_name": "Python 3",
   "language": "python",
   "name": "python3"
  },
  "language_info": {
   "codemirror_mode": {
    "name": "ipython",
    "version": 2
   },
   "file_extension": ".py",
   "mimetype": "text/x-python",
   "name": "python",
   "nbconvert_exporter": "python",
   "pygments_lexer": "ipython2",
   "version": "2.7.6"
  }
 },
 "nbformat": 4,
 "nbformat_minor": 5
}
