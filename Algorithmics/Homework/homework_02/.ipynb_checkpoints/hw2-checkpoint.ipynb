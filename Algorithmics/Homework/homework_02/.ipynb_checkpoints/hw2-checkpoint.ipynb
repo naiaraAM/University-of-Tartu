{
 "cells": [
  {
   "metadata": {},
   "cell_type": "markdown",
   "source": [
    "# Algorithmics - Homework 2\n",
    "### Naiara Alonso Montes"
   ],
   "id": "454cb8cfc9c6b46f"
  },
  {
   "metadata": {},
   "cell_type": "markdown",
   "source": [
    "#### Exercise 1\n",
    "To implement the queue and stack data structures, I have used a simple list, where in both cases append and pop are the instructions ``append`` and ``pop``, with the difference that in the case of the stack, the last element is the first to be removed, while in the queue, the first element is the first to be removed.\n",
    "\n",
    "The results found are presented in the following table:\n",
    "| Data Structure | Inserted elements | Deleted elements | Erroneous operations | Maximal Size | Time of maximal size (s) | Elements remaining |\n",
    "|--------------|-------------------|------------------|----------------------|--------------|-------------------------|--------------------|\n",
    "| Queue 1      | 360651            | 273234           | 6                    | 131211       | 7                       | 87473              |\n",
    "| Queue 2      | 369403            | 257476           | 0                    | 145853       | 9                       | 111857             |\n",
    "| Queue 3      | 379748            | 240999           | 13                   | 162943       | 12                      | 138748             |\n",
    "| Queue 4      | 389357            | 224954           | 0                    | 184053       | 15                      | 164538             |\n",
    "| Queue 5      | 399141            | 196553           | 4                    | 202300       | 19                      | 202300             |\n",
    "| Stack 1      | 367013            | 263324           | 16                   | 141717       | 9                       | 104699             |\n",
    "| Stack 2      | 382954            | 236263           | 1                    | 169400       | 13                      | 147035             |\n",
    "| Stack 3      | 400358            | 196910           | 4                    | 203731       | 19                      | 203751             |\n",
    "| Total        | 4936893           | 3048625          | 44                   |              |                         |                    |\n",
    "\n",
    "The time measures represented are from the beginning of the data structure loop. Some conclusions can be drawn from the results:\n",
    "- The number of erroneous operations is very low compared to the total number of operations.\n",
    "- The maximal size for the last DS of each type is the biggest, which is expected. Also, the maximal size of this last DS is equal to the number of elements remaining. Working according to the code, where the last DS has the highest probabilities of insertion."
   ],
   "id": "20e9db60afe114c7"
  },
  {
   "metadata": {
    "ExecuteTime": {
     "end_time": "2024-09-12T06:36:45.981159Z",
     "start_time": "2024-09-12T06:36:45.973129Z"
    }
   },
   "cell_type": "code",
   "source": [
    "<style type=\"text/css\">\n",
    ".tg  {border-collapse:collapse;border-spacing:0;}\n",
    ".tg td{border-color:black;border-style:solid;border-width:1px;font-family:Arial, sans-serif;font-size:14px;\n",
    "  overflow:hidden;padding:10px 5px;word-break:normal;}\n",
    ".tg th{border-color:black;border-style:solid;border-width:1px;font-family:Arial, sans-serif;font-size:14px;\n",
    "  font-weight:normal;overflow:hidden;padding:10px 5px;word-break:normal;}\n",
    ".tg .tg-0pky{border-color:inherit;text-align:left;vertical-align:top}\n",
    ".tg .tg-0lax{text-align:left;vertical-align:top}\n",
    "</style>\n",
    "<table class=\"tg\"><thead>\n",
    "  <tr>\n",
    "    <th class=\"tg-0pky\"></th>\n",
    "    <th class=\"tg-0pky\" colspan=\"2\">Configuration 1<br></th>\n",
    "    <th class=\"tg-0pky\" colspan=\"2\">Configuration 2</th>\n",
    "  </tr></thead>\n",
    "<tbody>\n",
    "  <tr>\n",
    "    <td class=\"tg-0pky\">Queue 1</td>\n",
    "    <td class=\"tg-0pky\">Average stay</td>\n",
    "    <td class=\"tg-0pky\">Longest stay<br></td>\n",
    "    <td class=\"tg-0pky\">Average stay</td>\n",
    "    <td class=\"tg-0pky\">Longest stay</td>\n",
    "  </tr>\n",
    "  <tr>\n",
    "    <td class=\"tg-0pky\">Queue 2</td>\n",
    "    <td class=\"tg-0pky\"></td>\n",
    "    <td class=\"tg-0pky\"></td>\n",
    "    <td class=\"tg-0pky\"></td>\n",
    "    <td class=\"tg-0pky\"></td>\n",
    "  </tr>\n",
    "  <tr>\n",
    "    <td class=\"tg-0pky\">Queue 3</td>\n",
    "    <td class=\"tg-0pky\"></td>\n",
    "    <td class=\"tg-0pky\"></td>\n",
    "    <td class=\"tg-0pky\"></td>\n",
    "    <td class=\"tg-0pky\"></td>\n",
    "  </tr>\n",
    "  <tr>\n",
    "    <td class=\"tg-0pky\">Queue 4</td>\n",
    "    <td class=\"tg-0pky\"></td>\n",
    "    <td class=\"tg-0pky\"></td>\n",
    "    <td class=\"tg-0pky\"></td>\n",
    "    <td class=\"tg-0pky\"></td>\n",
    "  </tr>\n",
    "  <tr>\n",
    "    <td class=\"tg-0pky\">Queue 5</td>\n",
    "    <td class=\"tg-0pky\"></td>\n",
    "    <td class=\"tg-0pky\"></td>\n",
    "    <td class=\"tg-0pky\"></td>\n",
    "    <td class=\"tg-0pky\"></td>\n",
    "  </tr>\n",
    "  <tr>\n",
    "    <td class=\"tg-0pky\">Stack 1</td>\n",
    "    <td class=\"tg-0pky\"></td>\n",
    "    <td class=\"tg-0pky\"></td>\n",
    "    <td class=\"tg-0pky\"></td>\n",
    "    <td class=\"tg-0pky\"></td>\n",
    "  </tr>\n",
    "  <tr>\n",
    "    <td class=\"tg-0pky\">Stack 2</td>\n",
    "    <td class=\"tg-0pky\"></td>\n",
    "    <td class=\"tg-0pky\"></td>\n",
    "    <td class=\"tg-0pky\"></td>\n",
    "    <td class=\"tg-0pky\"></td>\n",
    "  </tr>\n",
    "  <tr>\n",
    "    <td class=\"tg-0pky\">Stack 3</td>\n",
    "    <td class=\"tg-0pky\"></td>\n",
    "    <td class=\"tg-0pky\"></td>\n",
    "    <td class=\"tg-0pky\"></td>\n",
    "    <td class=\"tg-0pky\"></td>\n",
    "  </tr>\n",
    "  <tr>\n",
    "    <td class=\"tg-0lax\">Stack 4</td>\n",
    "    <td class=\"tg-0lax\"></td>\n",
    "    <td class=\"tg-0lax\"></td>\n",
    "    <td class=\"tg-0lax\"></td>\n",
    "    <td class=\"tg-0lax\"></td>\n",
    "  </tr>\n",
    "  <tr>\n",
    "    <td class=\"tg-0lax\">Stack 5</td>\n",
    "    <td class=\"tg-0lax\"></td>\n",
    "    <td class=\"tg-0lax\"></td>\n",
    "    <td class=\"tg-0lax\"></td>\n",
    "    <td class=\"tg-0lax\"></td>\n",
    "  </tr>\n",
    "</tbody></table>"
   ],
   "id": "d934c951e1e27e05",
   "outputs": [
    {
     "ename": "SyntaxError",
     "evalue": "invalid decimal literal (1080977769.py, line 3)",
     "output_type": "error",
     "traceback": [
      "\u001B[0;36m  Cell \u001B[0;32mIn[1], line 3\u001B[0;36m\u001B[0m\n\u001B[0;31m    .tg td{border-color:black;border-style:solid;border-width:1px;font-family:Arial, sans-serif;font-size:14px;\u001B[0m\n\u001B[0m                                                              ^\u001B[0m\n\u001B[0;31mSyntaxError\u001B[0m\u001B[0;31m:\u001B[0m invalid decimal literal\n"
     ]
    }
   ],
   "execution_count": 1
  }
 ],
 "metadata": {
  "kernelspec": {
   "display_name": "Python 3",
   "language": "python",
   "name": "python3"
  },
  "language_info": {
   "codemirror_mode": {
    "name": "ipython",
    "version": 2
   },
   "file_extension": ".py",
   "mimetype": "text/x-python",
   "name": "python",
   "nbconvert_exporter": "python",
   "pygments_lexer": "ipython2",
   "version": "2.7.6"
  }
 },
 "nbformat": 4,
 "nbformat_minor": 5
}
