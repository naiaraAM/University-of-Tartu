{
 "cells": [
  {
   "cell_type": "markdown",
   "id": "454cb8cfc9c6b46f",
   "metadata": {},
   "source": [
    "# Algorithmics - Homework 2\n",
    "### Naiara Alonso Montes"
   ]
  },
  {
   "cell_type": "markdown",
   "id": "20e9db60afe114c7",
   "metadata": {},
   "source": [
    "#### Exercise 1\n",
    "To implement the queue and stack data structures, I have used a simple list, where in both cases append and pop are the instructions ``append`` and ``pop``, with the difference that in the case of the stack, the last element is the first to be removed, while in the queue, the first element is the first to be removed.\n",
    "\n",
    "The results found are presented in the following table:\n",
    "| Data Structure | Inserted elements | Deleted elements | Erroneous operations | Maximal Size | Time of maximal size (s) | Elements remaining |\n",
    "|--------------|-------------------|------------------|----------------------|--------------|-------------------------|--------------------|\n",
    "| Queue 1      | 360651            | 273234           | 6                    | 131211       | 7                       | 87473              |\n",
    "| Queue 2      | 369403            | 257476           | 0                    | 145853       | 9                       | 111857             |\n",
    "| Queue 3      | 379748            | 240999           | 13                   | 162943       | 12                      | 138748             |\n",
    "| Queue 4      | 389357            | 224954           | 0                    | 184053       | 15                      | 164538             |\n",
    "| Queue 5      | 399141            | 196553           | 4                    | 202300       | 19                      | 202300             |\n",
    "| Stack 1      | 367013            | 263324           | 16                   | 141717       | 9                       | 104699             |\n",
    "| Stack 2      | 382954            | 236263           | 1                    | 169400       | 13                      | 147035             |\n",
    "| Stack 3      | 400358            | 196910           | 4                    | 203731       | 19                      | 203751             |\n",
    "| Total        | 4936893           | 3048625          | 44                   |              |                         |                    |\n",
    "\n",
    "The time measures represented are from the beginning of the data structure loop. Some conclusions can be drawn from the results:\n",
    "- The insertion and deletion of elements is higher in the greater"
   ]
  },
  {
   "cell_type": "markdown",
   "id": "9e5617b2c25ed977",
   "metadata": {},
   "source": [
    "#### Exercise 2\n",
    "| Data Structure | Configuration 1  |                        | Configuration 2  |                  |\n",
    "|---------|------------------|------------------------|------------------|------------------|\n",
    "|         | Average stay (s) | Longest stay (item - s) | Average stay (s) | Longest stay (s) |\n",
    "| Queue 1 | 6.86             | 1857416 - 14.28        | 4.80             | 2083447 - 9.38   |\n",
    "| Queue 2 | 7.58             | 2014971 - 14.68        | 5.30             | 2302271 - 9.88   |\n",
    "| Queue 3 | 7.82             | 2228905 - 14.37        | 5.07             | 2501670 - 8.56   |\n",
    "| Queue 4 | 7.78             | 2556552 - 13.12        |                  |                  |\n",
    "| Queue 5 | 7.37             | 2639259 - 12.22        |                  |                  |\n",
    "| Stack 1 | 7.33             | 143 - 26.52            | 4.43             | 712 - 17.19      |\n",
    "| Stack 2 | 7.95             | 410 - 27.52            | 4.99             | 5 - 17.91        |\n",
    "| Stack 3 | 7.49             | 29 - 27.80             | 5.27             | 4203 - 18.35     |\n",
    "| Stack 4 |                  |                        | 5.24             | 504 - 18.58      |\n",
    "| Stack 5 |                  |                        | 5.06             | 85 - 18.71       |"
   ]
  },
  {
   "cell_type": "code",
   "execution_count": null,
   "id": "f59485320602a114",
   "metadata": {},
   "outputs": [],
   "source": []
  }
 ],
 "metadata": {
  "kernelspec": {
   "display_name": "Python 3 (ipykernel)",
   "language": "python",
   "name": "python3"
  },
  "language_info": {
   "codemirror_mode": {
    "name": "ipython",
    "version": 3
   },
   "file_extension": ".py",
   "mimetype": "text/x-python",
   "name": "python",
   "nbconvert_exporter": "python",
   "pygments_lexer": "ipython3",
   "version": "3.11.9"
  }
 },
 "nbformat": 4,
 "nbformat_minor": 5
}
