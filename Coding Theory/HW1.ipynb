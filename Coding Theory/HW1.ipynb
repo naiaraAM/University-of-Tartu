{
 "nbformat": 4,
 "nbformat_minor": 0,
 "metadata": {
  "colab": {
   "provenance": []
  },
  "kernelspec": {
   "name": "python3",
   "display_name": "Python 3 (ipykernel)",
   "language": "python"
  },
  "language_info": {
   "name": "python"
  }
 },
 "cells": [
  {
   "cell_type": "markdown",
   "source": [
    "# Homework 1 - Coding Theory\n",
    "# Naiara Alonso Montes"
   ],
   "metadata": {
    "id": "Ql9LvlkpiEHJ"
   }
  },
  {
   "cell_type": "markdown",
   "source": [
    "### Problem 1"
   ],
   "metadata": {
    "id": "MYyZhZwKu7Db"
   }
  },
  {
   "cell_type": "markdown",
   "source": [
    "#### A"
   ],
   "metadata": {
    "id": "_OxGPU0UdHhU"
   }
  },
  {
   "cell_type": "markdown",
   "source": [
    "**a) Compute code rate**\n",
    "\n",
    "The code-rate R is calculated with the following formula $R = \\frac{\\log_{|U|}M}{n} = \\frac{k}{n}$ where $k$ is $\\log_{2}M$ and $n$ is provided. I apply the formula:\n",
    "\n",
    "$$R = \\frac{k}{n} = \\frac{\\log_{2}8}{7} = \\frac{3}{7}$$\n",
    "\n",
    "**b) Minimun distance from the code**\n",
    "\n",
    "To calculate the minimun distance, I will use the Hamming distance. It is necessary to transform the code words into strings."
   ],
   "metadata": {
    "id": "9Zv83skJu8_J"
   }
  },
  {
   "cell_type": "code",
   "execution_count": null,
   "metadata": {
    "colab": {
     "base_uri": "https://localhost:8080/"
    },
    "id": "PmtHvmsAh-9-",
    "outputId": "18a0fff2-e560-4617-82d3-fe6e1350961a"
   },
   "outputs": [
    {
     "output_type": "stream",
     "name": "stdout",
     "text": [
      "The minimun distances is: 3\n"
     ]
    }
   ],
   "source": [
    "import numpy as np\n",
    "\n",
    "codewords = np.array([\n",
    "    [1, 0, 0, 1, 1, 1, 0],\n",
    "    [0, 0, 0, 0, 0, 0, 0],\n",
    "    [0, 1, 0, 0, 1, 0, 1],\n",
    "    [1, 1, 0, 1, 0, 1, 1],\n",
    "    [0, 0, 1, 1, 0, 1, 1],\n",
    "    [1, 0, 1, 0, 1, 0, 1],\n",
    "    [0, 1, 1, 1, 1, 1, 0],\n",
    "    [1, 1, 1, 0, 0, 0, 0]])\n",
    "\n",
    "hamming_weights = [np.sum(codeword) for codeword in codewords]\n",
    "\n",
    "non_zero_weights = [weight for weight in hamming_weights if weight > 0]\n",
    "min_distance = min(non_zero_weights)\n",
    "\n",
    "print(f\"The minimun distances is: {min_distance}\")\n"
   ]
  },
  {
   "cell_type": "markdown",
   "source": [
    "**c) Check if code is linear**\n",
    "\n",
    "For a code to be linear, the result of the XOR of 2 codewords must be another codeword."
   ],
   "metadata": {
    "id": "Vj9QP7zEwmJd"
   }
  },
  {
   "cell_type": "code",
   "source": [
    "from os import name\n",
    "def xor(word1, word2):\n",
    "    result = \"\"\n",
    "    for i in range(len(word1)):\n",
    "        if word1[i] == word2[i]:\n",
    "            result += \"0\"\n",
    "        else:\n",
    "            result += \"1\"\n",
    "    return result\n",
    "\n",
    "def main():\n",
    "  for i, word1 in enumerate(codewords):\n",
    "    for j, word2 in enumerate(codewords):\n",
    "      resulted_word = xor(word1, word2)\n",
    "      if resulted_word not in codewords:\n",
    "        print(f\"The code is not linear\")\n",
    "        exit()\n",
    "  print(f\"The code is linear\")\n",
    "\n",
    "main()"
   ],
   "metadata": {
    "colab": {
     "base_uri": "https://localhost:8080/"
    },
    "id": "FmxE14kyxERq",
    "outputId": "59d8e323-5ebf-4be1-d0c9-79796f31270b"
   },
   "execution_count": null,
   "outputs": [
    {
     "output_type": "stream",
     "name": "stdout",
     "text": [
      "The code is linear\n"
     ]
    }
   ]
  },
  {
   "cell_type": "markdown",
   "source": [
    "#### B"
   ],
   "metadata": {
    "id": "yoTSL6eKyUv5"
   }
  },
  {
   "cell_type": "markdown",
   "source": [
    "**a) Parity-check matrix**\n",
    "First I need to obtain the Identity Matrix, which is not trivial. Row 2 = Row 2 - Row 1\n",
    "\n",
    "\\begin{equation}\n",
    "M' =\n",
    "\\begin{pmatrix}\n",
    "  1 & 0 & 0 & 1 & 0 & 1 & 1  \\\\\n",
    "  0 & 1 & 0 & 1 & 1 & 1 & 1  \\\\\n",
    "  0 & 0 & 1 & 1 & 0 & 0 & 1  \\\\\n",
    "\\end{pmatrix}\n",
    "\\end{equation}\n",
    "\n",
    "In matrix $M'$ the identity matrix $I_{3}$ has dimensions $3 \\times 3$ and parity matrix $P$ has dimesions $3 × 4$. I need the transpose matrix $P'$.\n",
    "\n",
    "\\begin{equation}\n",
    "P' =\n",
    "\\begin{pmatrix}\n",
    "1 & 1 & 1 \\\\\n",
    "0 & 1 & 1 \\\\\n",
    "1 & 1 & 0 \\\\\n",
    "1 & 1 & 1 \\\\\n",
    "\\end{pmatrix}\n",
    "\\end{equation}\n",
    "\n",
    "Now the parity-check matrix $H = [P' | I_{3}]$, which is:\n",
    "\n",
    "\\begin{equation}\n",
    "H =\n",
    "\\begin{pmatrix}\n",
    "1 & 1 & 1 & 1 & 0 & 0 & 0 \\\\\n",
    "0 & 1 & 0 & 0 & 1 & 0 & 0 \\\\\n",
    "1 & 1 & 0 & 0 & 0 & 1 & 0 \\\\\n",
    "1 & 1 & 1 & 0 & 0 & 0 & 1 \\\\\n",
    "\\end{pmatrix}\n",
    "\\end{equation}"
   ],
   "metadata": {
    "id": "kh1zDV2gu-7r"
   }
  },
  {
   "cell_type": "markdown",
   "source": [
    "**b) Code rate**\n",
    "\n",
    "Code rate $R$ is defined as in a generator matrix as $\\frac{k}{n}$ where $k$ is equal to the number of rows of the matrix and $n$ is the number of columns. For our example:\n",
    "$$R = \\frac{k}{n} = \\frac{3}{7} ≈ 0.429$$"
   ],
   "metadata": {
    "id": "IPqzkl82yQWu"
   }
  },
  {
   "cell_type": "markdown",
   "source": [
    "**c) Minimun distance of the code**"
   ],
   "metadata": {
    "id": "0MR2MUV30NDM"
   }
  },
  {
   "cell_type": "code",
   "source": [
    "import numpy as np\n",
    "\n",
    "generator_matrix = np.array([\n",
    "    [1, 0, 0, 1, 0, 1, 1],\n",
    "    [0, 1, 1, 0, 1, 1, 0],\n",
    "    [0, 0, 1, 1, 0, 0, 1]\n",
    "])\n",
    "\n",
    "all_binary_vectors = np.array([\n",
    "    [0, 0, 0],\n",
    "    [0, 0, 1],\n",
    "    [0, 1, 0],\n",
    "    [0, 1, 1],\n",
    "    [1, 0, 0],\n",
    "    [1, 0, 1],\n",
    "    [1, 1, 0],\n",
    "    [1, 1, 1]\n",
    "])\n",
    "\n",
    "codewords = []\n",
    "for vector in all_binary_vectors:\n",
    "    codeword = np.dot(vector, generator_matrix) % 2\n",
    "    codewords.append(codeword)\n",
    "\n",
    "hamming_weights = [np.sum(codeword) for codeword in codewords]\n",
    "\n",
    "non_zero_weights = [weight for weight in hamming_weights if weight > 0]\n",
    "min_distance = min(non_zero_weights)\n",
    "\n",
    "print(f\"The minimun distance is: {min_distance}\")\n"
   ],
   "metadata": {
    "colab": {
     "base_uri": "https://localhost:8080/"
    },
    "id": "pTU2bBPk0dN_",
    "outputId": "78e477f3-57a4-42f4-c239-e1c1e7b82ac9"
   },
   "execution_count": null,
   "outputs": [
    {
     "output_type": "stream",
     "name": "stdout",
     "text": [
      "The minimun distance is: 3\n"
     ]
    }
   ]
  },
  {
   "cell_type": "markdown",
   "source": [
    "**d) Check minimun distance using parity check**\n",
    "\n",
    "To check the minimun distance using the parity check matrix, we need to sum all combinations of columns and see if the result is 0 in module 2. The number of 0 vectors is the minimun distance. The sum can be done with 2 or more columns."
   ],
   "metadata": {
    "id": "TG2L786K3kHk"
   }
  },
  {
   "cell_type": "code",
   "source": [
    "from itertools import combinations\n",
    "\n",
    "H = np.array([\n",
    "    [1, 1, 1, 1, 0, 0, 0],\n",
    "    [0, 1, 0, 0, 1, 0, 0],\n",
    "    [1, 1, 0, 0, 0, 1, 0],\n",
    "    [1, 1, 1, 0, 0, 0, 1]\n",
    "])\n",
    "\n",
    "n = H.shape[1]\n",
    "\n",
    "def is_linearly_dependent(cols):\n",
    "    col_sum = np.sum(cols, axis=1) % 2\n",
    "    return np.array_equal(col_sum, np.zeros(cols.shape[0]))\n",
    "\n",
    "min_distance = n\n",
    "for r in range(2, n + 1):\n",
    "    for comb in combinations(range(n), r):\n",
    "        selected_columns = H[:, comb]\n",
    "        if is_linearly_dependent(selected_columns):\n",
    "            min_distance = min(min_distance, r)\n",
    "            break\n",
    "\n",
    "print(f\"The minimun distance is: {min_distance}\")\n"
   ],
   "metadata": {
    "colab": {
     "base_uri": "https://localhost:8080/"
    },
    "id": "fQOsa6ha3-xo",
    "outputId": "bee5ea6f-3b00-42a3-e17b-eb706e86c253"
   },
   "execution_count": null,
   "outputs": [
    {
     "output_type": "stream",
     "name": "stdout",
     "text": [
      "The minimun distance is: 3\n"
     ]
    }
   ]
  },
  {
   "cell_type": "markdown",
   "source": [
    "**e) Decision region for 0-codeword**\n",
    "\n",
    "To get the decision region for 0-codeword we need to compare it with all possible combinations of codewords. To do so, first we need to obtain all possible combinations and calculate the distance to 0-codeword.\n"
   ],
   "metadata": {
    "id": "JuiU_sbb59t7"
   }
  },
  {
   "cell_type": "code",
   "source": [
    "import numpy as np\n",
    "import itertools\n",
    "import pandas as pd\n",
    "\n",
    "def binary_combinations(n):\n",
    "  return np.array(list(itertools.product([0, 1], repeat=n)))\n",
    "\n",
    "def hamming_distances():\n",
    "  n_combinations = binary_combinations(7)\n",
    "  codeword_0 = np.array([0] * n_combinations.shape[1])\n",
    "  distances = np.sum(np.abs(n_combinations - codeword_0), axis=1)\n",
    "  return distances\n",
    "\n",
    "dataframe = pd.DataFrame({'Combination': binary_combinations(7).tolist(), 'Distance': hamming_distances()})\n",
    "dataframe"
   ],
   "metadata": {
    "id": "BHm19U1sPJk8",
    "colab": {
     "base_uri": "https://localhost:8080/",
     "height": 424
    },
    "outputId": "85f9ebad-d61e-40e8-949c-2a9cb5473ccb"
   },
   "execution_count": null,
   "outputs": [
    {
     "output_type": "execute_result",
     "data": {
      "text/plain": [
       "               Combination  Distance\n",
       "0    [0, 0, 0, 0, 0, 0, 0]         0\n",
       "1    [0, 0, 0, 0, 0, 0, 1]         1\n",
       "2    [0, 0, 0, 0, 0, 1, 0]         1\n",
       "3    [0, 0, 0, 0, 0, 1, 1]         2\n",
       "4    [0, 0, 0, 0, 1, 0, 0]         1\n",
       "..                     ...       ...\n",
       "123  [1, 1, 1, 1, 0, 1, 1]         6\n",
       "124  [1, 1, 1, 1, 1, 0, 0]         5\n",
       "125  [1, 1, 1, 1, 1, 0, 1]         6\n",
       "126  [1, 1, 1, 1, 1, 1, 0]         6\n",
       "127  [1, 1, 1, 1, 1, 1, 1]         7\n",
       "\n",
       "[128 rows x 2 columns]"
      ],
      "text/html": [
       "\n",
       "  <div id=\"df-10b3a58e-c6e7-4ad3-a50f-3f8248fde1f6\" class=\"colab-df-container\">\n",
       "    <div>\n",
       "<style scoped>\n",
       "    .dataframe tbody tr th:only-of-type {\n",
       "        vertical-align: middle;\n",
       "    }\n",
       "\n",
       "    .dataframe tbody tr th {\n",
       "        vertical-align: top;\n",
       "    }\n",
       "\n",
       "    .dataframe thead th {\n",
       "        text-align: right;\n",
       "    }\n",
       "</style>\n",
       "<table border=\"1\" class=\"dataframe\">\n",
       "  <thead>\n",
       "    <tr style=\"text-align: right;\">\n",
       "      <th></th>\n",
       "      <th>Combination</th>\n",
       "      <th>Distance</th>\n",
       "    </tr>\n",
       "  </thead>\n",
       "  <tbody>\n",
       "    <tr>\n",
       "      <th>0</th>\n",
       "      <td>[0, 0, 0, 0, 0, 0, 0]</td>\n",
       "      <td>0</td>\n",
       "    </tr>\n",
       "    <tr>\n",
       "      <th>1</th>\n",
       "      <td>[0, 0, 0, 0, 0, 0, 1]</td>\n",
       "      <td>1</td>\n",
       "    </tr>\n",
       "    <tr>\n",
       "      <th>2</th>\n",
       "      <td>[0, 0, 0, 0, 0, 1, 0]</td>\n",
       "      <td>1</td>\n",
       "    </tr>\n",
       "    <tr>\n",
       "      <th>3</th>\n",
       "      <td>[0, 0, 0, 0, 0, 1, 1]</td>\n",
       "      <td>2</td>\n",
       "    </tr>\n",
       "    <tr>\n",
       "      <th>4</th>\n",
       "      <td>[0, 0, 0, 0, 1, 0, 0]</td>\n",
       "      <td>1</td>\n",
       "    </tr>\n",
       "    <tr>\n",
       "      <th>...</th>\n",
       "      <td>...</td>\n",
       "      <td>...</td>\n",
       "    </tr>\n",
       "    <tr>\n",
       "      <th>123</th>\n",
       "      <td>[1, 1, 1, 1, 0, 1, 1]</td>\n",
       "      <td>6</td>\n",
       "    </tr>\n",
       "    <tr>\n",
       "      <th>124</th>\n",
       "      <td>[1, 1, 1, 1, 1, 0, 0]</td>\n",
       "      <td>5</td>\n",
       "    </tr>\n",
       "    <tr>\n",
       "      <th>125</th>\n",
       "      <td>[1, 1, 1, 1, 1, 0, 1]</td>\n",
       "      <td>6</td>\n",
       "    </tr>\n",
       "    <tr>\n",
       "      <th>126</th>\n",
       "      <td>[1, 1, 1, 1, 1, 1, 0]</td>\n",
       "      <td>6</td>\n",
       "    </tr>\n",
       "    <tr>\n",
       "      <th>127</th>\n",
       "      <td>[1, 1, 1, 1, 1, 1, 1]</td>\n",
       "      <td>7</td>\n",
       "    </tr>\n",
       "  </tbody>\n",
       "</table>\n",
       "<p>128 rows × 2 columns</p>\n",
       "</div>\n",
       "    <div class=\"colab-df-buttons\">\n",
       "\n",
       "  <div class=\"colab-df-container\">\n",
       "    <button class=\"colab-df-convert\" onclick=\"convertToInteractive('df-10b3a58e-c6e7-4ad3-a50f-3f8248fde1f6')\"\n",
       "            title=\"Convert this dataframe to an interactive table.\"\n",
       "            style=\"display:none;\">\n",
       "\n",
       "  <svg xmlns=\"http://www.w3.org/2000/svg\" height=\"24px\" viewBox=\"0 -960 960 960\">\n",
       "    <path d=\"M120-120v-720h720v720H120Zm60-500h600v-160H180v160Zm220 220h160v-160H400v160Zm0 220h160v-160H400v160ZM180-400h160v-160H180v160Zm440 0h160v-160H620v160ZM180-180h160v-160H180v160Zm440 0h160v-160H620v160Z\"/>\n",
       "  </svg>\n",
       "    </button>\n",
       "\n",
       "  <style>\n",
       "    .colab-df-container {\n",
       "      display:flex;\n",
       "      gap: 12px;\n",
       "    }\n",
       "\n",
       "    .colab-df-convert {\n",
       "      background-color: #E8F0FE;\n",
       "      border: none;\n",
       "      border-radius: 50%;\n",
       "      cursor: pointer;\n",
       "      display: none;\n",
       "      fill: #1967D2;\n",
       "      height: 32px;\n",
       "      padding: 0 0 0 0;\n",
       "      width: 32px;\n",
       "    }\n",
       "\n",
       "    .colab-df-convert:hover {\n",
       "      background-color: #E2EBFA;\n",
       "      box-shadow: 0px 1px 2px rgba(60, 64, 67, 0.3), 0px 1px 3px 1px rgba(60, 64, 67, 0.15);\n",
       "      fill: #174EA6;\n",
       "    }\n",
       "\n",
       "    .colab-df-buttons div {\n",
       "      margin-bottom: 4px;\n",
       "    }\n",
       "\n",
       "    [theme=dark] .colab-df-convert {\n",
       "      background-color: #3B4455;\n",
       "      fill: #D2E3FC;\n",
       "    }\n",
       "\n",
       "    [theme=dark] .colab-df-convert:hover {\n",
       "      background-color: #434B5C;\n",
       "      box-shadow: 0px 1px 3px 1px rgba(0, 0, 0, 0.15);\n",
       "      filter: drop-shadow(0px 1px 2px rgba(0, 0, 0, 0.3));\n",
       "      fill: #FFFFFF;\n",
       "    }\n",
       "  </style>\n",
       "\n",
       "    <script>\n",
       "      const buttonEl =\n",
       "        document.querySelector('#df-10b3a58e-c6e7-4ad3-a50f-3f8248fde1f6 button.colab-df-convert');\n",
       "      buttonEl.style.display =\n",
       "        google.colab.kernel.accessAllowed ? 'block' : 'none';\n",
       "\n",
       "      async function convertToInteractive(key) {\n",
       "        const element = document.querySelector('#df-10b3a58e-c6e7-4ad3-a50f-3f8248fde1f6');\n",
       "        const dataTable =\n",
       "          await google.colab.kernel.invokeFunction('convertToInteractive',\n",
       "                                                    [key], {});\n",
       "        if (!dataTable) return;\n",
       "\n",
       "        const docLinkHtml = 'Like what you see? Visit the ' +\n",
       "          '<a target=\"_blank\" href=https://colab.research.google.com/notebooks/data_table.ipynb>data table notebook</a>'\n",
       "          + ' to learn more about interactive tables.';\n",
       "        element.innerHTML = '';\n",
       "        dataTable['output_type'] = 'display_data';\n",
       "        await google.colab.output.renderOutput(dataTable, element);\n",
       "        const docLink = document.createElement('div');\n",
       "        docLink.innerHTML = docLinkHtml;\n",
       "        element.appendChild(docLink);\n",
       "      }\n",
       "    </script>\n",
       "  </div>\n",
       "\n",
       "\n",
       "<div id=\"df-e38fb91b-b604-4812-8086-d101b5ad2996\">\n",
       "  <button class=\"colab-df-quickchart\" onclick=\"quickchart('df-e38fb91b-b604-4812-8086-d101b5ad2996')\"\n",
       "            title=\"Suggest charts\"\n",
       "            style=\"display:none;\">\n",
       "\n",
       "<svg xmlns=\"http://www.w3.org/2000/svg\" height=\"24px\"viewBox=\"0 0 24 24\"\n",
       "     width=\"24px\">\n",
       "    <g>\n",
       "        <path d=\"M19 3H5c-1.1 0-2 .9-2 2v14c0 1.1.9 2 2 2h14c1.1 0 2-.9 2-2V5c0-1.1-.9-2-2-2zM9 17H7v-7h2v7zm4 0h-2V7h2v10zm4 0h-2v-4h2v4z\"/>\n",
       "    </g>\n",
       "</svg>\n",
       "  </button>\n",
       "\n",
       "<style>\n",
       "  .colab-df-quickchart {\n",
       "      --bg-color: #E8F0FE;\n",
       "      --fill-color: #1967D2;\n",
       "      --hover-bg-color: #E2EBFA;\n",
       "      --hover-fill-color: #174EA6;\n",
       "      --disabled-fill-color: #AAA;\n",
       "      --disabled-bg-color: #DDD;\n",
       "  }\n",
       "\n",
       "  [theme=dark] .colab-df-quickchart {\n",
       "      --bg-color: #3B4455;\n",
       "      --fill-color: #D2E3FC;\n",
       "      --hover-bg-color: #434B5C;\n",
       "      --hover-fill-color: #FFFFFF;\n",
       "      --disabled-bg-color: #3B4455;\n",
       "      --disabled-fill-color: #666;\n",
       "  }\n",
       "\n",
       "  .colab-df-quickchart {\n",
       "    background-color: var(--bg-color);\n",
       "    border: none;\n",
       "    border-radius: 50%;\n",
       "    cursor: pointer;\n",
       "    display: none;\n",
       "    fill: var(--fill-color);\n",
       "    height: 32px;\n",
       "    padding: 0;\n",
       "    width: 32px;\n",
       "  }\n",
       "\n",
       "  .colab-df-quickchart:hover {\n",
       "    background-color: var(--hover-bg-color);\n",
       "    box-shadow: 0 1px 2px rgba(60, 64, 67, 0.3), 0 1px 3px 1px rgba(60, 64, 67, 0.15);\n",
       "    fill: var(--button-hover-fill-color);\n",
       "  }\n",
       "\n",
       "  .colab-df-quickchart-complete:disabled,\n",
       "  .colab-df-quickchart-complete:disabled:hover {\n",
       "    background-color: var(--disabled-bg-color);\n",
       "    fill: var(--disabled-fill-color);\n",
       "    box-shadow: none;\n",
       "  }\n",
       "\n",
       "  .colab-df-spinner {\n",
       "    border: 2px solid var(--fill-color);\n",
       "    border-color: transparent;\n",
       "    border-bottom-color: var(--fill-color);\n",
       "    animation:\n",
       "      spin 1s steps(1) infinite;\n",
       "  }\n",
       "\n",
       "  @keyframes spin {\n",
       "    0% {\n",
       "      border-color: transparent;\n",
       "      border-bottom-color: var(--fill-color);\n",
       "      border-left-color: var(--fill-color);\n",
       "    }\n",
       "    20% {\n",
       "      border-color: transparent;\n",
       "      border-left-color: var(--fill-color);\n",
       "      border-top-color: var(--fill-color);\n",
       "    }\n",
       "    30% {\n",
       "      border-color: transparent;\n",
       "      border-left-color: var(--fill-color);\n",
       "      border-top-color: var(--fill-color);\n",
       "      border-right-color: var(--fill-color);\n",
       "    }\n",
       "    40% {\n",
       "      border-color: transparent;\n",
       "      border-right-color: var(--fill-color);\n",
       "      border-top-color: var(--fill-color);\n",
       "    }\n",
       "    60% {\n",
       "      border-color: transparent;\n",
       "      border-right-color: var(--fill-color);\n",
       "    }\n",
       "    80% {\n",
       "      border-color: transparent;\n",
       "      border-right-color: var(--fill-color);\n",
       "      border-bottom-color: var(--fill-color);\n",
       "    }\n",
       "    90% {\n",
       "      border-color: transparent;\n",
       "      border-bottom-color: var(--fill-color);\n",
       "    }\n",
       "  }\n",
       "</style>\n",
       "\n",
       "  <script>\n",
       "    async function quickchart(key) {\n",
       "      const quickchartButtonEl =\n",
       "        document.querySelector('#' + key + ' button');\n",
       "      quickchartButtonEl.disabled = true;  // To prevent multiple clicks.\n",
       "      quickchartButtonEl.classList.add('colab-df-spinner');\n",
       "      try {\n",
       "        const charts = await google.colab.kernel.invokeFunction(\n",
       "            'suggestCharts', [key], {});\n",
       "      } catch (error) {\n",
       "        console.error('Error during call to suggestCharts:', error);\n",
       "      }\n",
       "      quickchartButtonEl.classList.remove('colab-df-spinner');\n",
       "      quickchartButtonEl.classList.add('colab-df-quickchart-complete');\n",
       "    }\n",
       "    (() => {\n",
       "      let quickchartButtonEl =\n",
       "        document.querySelector('#df-e38fb91b-b604-4812-8086-d101b5ad2996 button');\n",
       "      quickchartButtonEl.style.display =\n",
       "        google.colab.kernel.accessAllowed ? 'block' : 'none';\n",
       "    })();\n",
       "  </script>\n",
       "</div>\n",
       "\n",
       "  <div id=\"id_72c6cdd7-4244-4187-b7dd-e12402e4a1b9\">\n",
       "    <style>\n",
       "      .colab-df-generate {\n",
       "        background-color: #E8F0FE;\n",
       "        border: none;\n",
       "        border-radius: 50%;\n",
       "        cursor: pointer;\n",
       "        display: none;\n",
       "        fill: #1967D2;\n",
       "        height: 32px;\n",
       "        padding: 0 0 0 0;\n",
       "        width: 32px;\n",
       "      }\n",
       "\n",
       "      .colab-df-generate:hover {\n",
       "        background-color: #E2EBFA;\n",
       "        box-shadow: 0px 1px 2px rgba(60, 64, 67, 0.3), 0px 1px 3px 1px rgba(60, 64, 67, 0.15);\n",
       "        fill: #174EA6;\n",
       "      }\n",
       "\n",
       "      [theme=dark] .colab-df-generate {\n",
       "        background-color: #3B4455;\n",
       "        fill: #D2E3FC;\n",
       "      }\n",
       "\n",
       "      [theme=dark] .colab-df-generate:hover {\n",
       "        background-color: #434B5C;\n",
       "        box-shadow: 0px 1px 3px 1px rgba(0, 0, 0, 0.15);\n",
       "        filter: drop-shadow(0px 1px 2px rgba(0, 0, 0, 0.3));\n",
       "        fill: #FFFFFF;\n",
       "      }\n",
       "    </style>\n",
       "    <button class=\"colab-df-generate\" onclick=\"generateWithVariable('dataframe')\"\n",
       "            title=\"Generate code using this dataframe.\"\n",
       "            style=\"display:none;\">\n",
       "\n",
       "  <svg xmlns=\"http://www.w3.org/2000/svg\" height=\"24px\"viewBox=\"0 0 24 24\"\n",
       "       width=\"24px\">\n",
       "    <path d=\"M7,19H8.4L18.45,9,17,7.55,7,17.6ZM5,21V16.75L18.45,3.32a2,2,0,0,1,2.83,0l1.4,1.43a1.91,1.91,0,0,1,.58,1.4,1.91,1.91,0,0,1-.58,1.4L9.25,21ZM18.45,9,17,7.55Zm-12,3A5.31,5.31,0,0,0,4.9,8.1,5.31,5.31,0,0,0,1,6.5,5.31,5.31,0,0,0,4.9,4.9,5.31,5.31,0,0,0,6.5,1,5.31,5.31,0,0,0,8.1,4.9,5.31,5.31,0,0,0,12,6.5,5.46,5.46,0,0,0,6.5,12Z\"/>\n",
       "  </svg>\n",
       "    </button>\n",
       "    <script>\n",
       "      (() => {\n",
       "      const buttonEl =\n",
       "        document.querySelector('#id_72c6cdd7-4244-4187-b7dd-e12402e4a1b9 button.colab-df-generate');\n",
       "      buttonEl.style.display =\n",
       "        google.colab.kernel.accessAllowed ? 'block' : 'none';\n",
       "\n",
       "      buttonEl.onclick = () => {\n",
       "        google.colab.notebook.generateWithVariable('dataframe');\n",
       "      }\n",
       "      })();\n",
       "    </script>\n",
       "  </div>\n",
       "\n",
       "    </div>\n",
       "  </div>\n"
      ],
      "application/vnd.google.colaboratory.intrinsic+json": {
       "type": "dataframe",
       "variable_name": "dataframe",
       "summary": "{\n  \"name\": \"dataframe\",\n  \"rows\": 128,\n  \"fields\": [\n    {\n      \"column\": \"Combination\",\n      \"properties\": {\n        \"dtype\": \"object\",\n        \"semantic_type\": \"\",\n        \"description\": \"\"\n      }\n    },\n    {\n      \"column\": \"Distance\",\n      \"properties\": {\n        \"dtype\": \"number\",\n        \"std\": 1,\n        \"min\": 0,\n        \"max\": 7,\n        \"num_unique_values\": 8,\n        \"samples\": [\n          1,\n          5,\n          0\n        ],\n        \"semantic_type\": \"\",\n        \"description\": \"\"\n      }\n    }\n  ]\n}"
      }
     },
     "metadata": {},
     "execution_count": 3
    }
   ]
  },
  {
   "cell_type": "markdown",
   "source": [
    "We know that there exists a theorem that can correct $⌊(d - 1) / 2⌋$ errors. In our case, $d = 3$, so the number of corrected errors is $⌊(3 - 1) / 2⌋ = 1$. It means that for any vector which the distance is 1 or less, it belongs to the 0-codeword decision region."
   ],
   "metadata": {
    "id": "7cv9AuTrRG5F"
   }
  },
  {
   "cell_type": "code",
   "source": [
    "def decision_region(distances):\n",
    "  decision_region_indexes = []\n",
    "  for i, distance in enumerate(distances):\n",
    "    if distance <= 1:\n",
    "      decision_region_indexes.append(i)\n",
    "  return decision_region_indexes\n",
    "\n",
    "decision_region(hamming_distances())\n",
    "\n",
    "dataframe.iloc[decision_region(hamming_distances())]"
   ],
   "metadata": {
    "colab": {
     "base_uri": "https://localhost:8080/",
     "height": 300
    },
    "id": "pnla86Xk3j-N",
    "outputId": "279d3407-ff5b-4833-94ea-a3aaf54036ab"
   },
   "execution_count": null,
   "outputs": [
    {
     "output_type": "execute_result",
     "data": {
      "text/plain": [
       "              Combination  Distance\n",
       "0   [0, 0, 0, 0, 0, 0, 0]         0\n",
       "1   [0, 0, 0, 0, 0, 0, 1]         1\n",
       "2   [0, 0, 0, 0, 0, 1, 0]         1\n",
       "4   [0, 0, 0, 0, 1, 0, 0]         1\n",
       "8   [0, 0, 0, 1, 0, 0, 0]         1\n",
       "16  [0, 0, 1, 0, 0, 0, 0]         1\n",
       "32  [0, 1, 0, 0, 0, 0, 0]         1\n",
       "64  [1, 0, 0, 0, 0, 0, 0]         1"
      ],
      "text/html": [
       "\n",
       "  <div id=\"df-92c60df4-d45d-4584-8512-0032eded9223\" class=\"colab-df-container\">\n",
       "    <div>\n",
       "<style scoped>\n",
       "    .dataframe tbody tr th:only-of-type {\n",
       "        vertical-align: middle;\n",
       "    }\n",
       "\n",
       "    .dataframe tbody tr th {\n",
       "        vertical-align: top;\n",
       "    }\n",
       "\n",
       "    .dataframe thead th {\n",
       "        text-align: right;\n",
       "    }\n",
       "</style>\n",
       "<table border=\"1\" class=\"dataframe\">\n",
       "  <thead>\n",
       "    <tr style=\"text-align: right;\">\n",
       "      <th></th>\n",
       "      <th>Combination</th>\n",
       "      <th>Distance</th>\n",
       "    </tr>\n",
       "  </thead>\n",
       "  <tbody>\n",
       "    <tr>\n",
       "      <th>0</th>\n",
       "      <td>[0, 0, 0, 0, 0, 0, 0]</td>\n",
       "      <td>0</td>\n",
       "    </tr>\n",
       "    <tr>\n",
       "      <th>1</th>\n",
       "      <td>[0, 0, 0, 0, 0, 0, 1]</td>\n",
       "      <td>1</td>\n",
       "    </tr>\n",
       "    <tr>\n",
       "      <th>2</th>\n",
       "      <td>[0, 0, 0, 0, 0, 1, 0]</td>\n",
       "      <td>1</td>\n",
       "    </tr>\n",
       "    <tr>\n",
       "      <th>4</th>\n",
       "      <td>[0, 0, 0, 0, 1, 0, 0]</td>\n",
       "      <td>1</td>\n",
       "    </tr>\n",
       "    <tr>\n",
       "      <th>8</th>\n",
       "      <td>[0, 0, 0, 1, 0, 0, 0]</td>\n",
       "      <td>1</td>\n",
       "    </tr>\n",
       "    <tr>\n",
       "      <th>16</th>\n",
       "      <td>[0, 0, 1, 0, 0, 0, 0]</td>\n",
       "      <td>1</td>\n",
       "    </tr>\n",
       "    <tr>\n",
       "      <th>32</th>\n",
       "      <td>[0, 1, 0, 0, 0, 0, 0]</td>\n",
       "      <td>1</td>\n",
       "    </tr>\n",
       "    <tr>\n",
       "      <th>64</th>\n",
       "      <td>[1, 0, 0, 0, 0, 0, 0]</td>\n",
       "      <td>1</td>\n",
       "    </tr>\n",
       "  </tbody>\n",
       "</table>\n",
       "</div>\n",
       "    <div class=\"colab-df-buttons\">\n",
       "\n",
       "  <div class=\"colab-df-container\">\n",
       "    <button class=\"colab-df-convert\" onclick=\"convertToInteractive('df-92c60df4-d45d-4584-8512-0032eded9223')\"\n",
       "            title=\"Convert this dataframe to an interactive table.\"\n",
       "            style=\"display:none;\">\n",
       "\n",
       "  <svg xmlns=\"http://www.w3.org/2000/svg\" height=\"24px\" viewBox=\"0 -960 960 960\">\n",
       "    <path d=\"M120-120v-720h720v720H120Zm60-500h600v-160H180v160Zm220 220h160v-160H400v160Zm0 220h160v-160H400v160ZM180-400h160v-160H180v160Zm440 0h160v-160H620v160ZM180-180h160v-160H180v160Zm440 0h160v-160H620v160Z\"/>\n",
       "  </svg>\n",
       "    </button>\n",
       "\n",
       "  <style>\n",
       "    .colab-df-container {\n",
       "      display:flex;\n",
       "      gap: 12px;\n",
       "    }\n",
       "\n",
       "    .colab-df-convert {\n",
       "      background-color: #E8F0FE;\n",
       "      border: none;\n",
       "      border-radius: 50%;\n",
       "      cursor: pointer;\n",
       "      display: none;\n",
       "      fill: #1967D2;\n",
       "      height: 32px;\n",
       "      padding: 0 0 0 0;\n",
       "      width: 32px;\n",
       "    }\n",
       "\n",
       "    .colab-df-convert:hover {\n",
       "      background-color: #E2EBFA;\n",
       "      box-shadow: 0px 1px 2px rgba(60, 64, 67, 0.3), 0px 1px 3px 1px rgba(60, 64, 67, 0.15);\n",
       "      fill: #174EA6;\n",
       "    }\n",
       "\n",
       "    .colab-df-buttons div {\n",
       "      margin-bottom: 4px;\n",
       "    }\n",
       "\n",
       "    [theme=dark] .colab-df-convert {\n",
       "      background-color: #3B4455;\n",
       "      fill: #D2E3FC;\n",
       "    }\n",
       "\n",
       "    [theme=dark] .colab-df-convert:hover {\n",
       "      background-color: #434B5C;\n",
       "      box-shadow: 0px 1px 3px 1px rgba(0, 0, 0, 0.15);\n",
       "      filter: drop-shadow(0px 1px 2px rgba(0, 0, 0, 0.3));\n",
       "      fill: #FFFFFF;\n",
       "    }\n",
       "  </style>\n",
       "\n",
       "    <script>\n",
       "      const buttonEl =\n",
       "        document.querySelector('#df-92c60df4-d45d-4584-8512-0032eded9223 button.colab-df-convert');\n",
       "      buttonEl.style.display =\n",
       "        google.colab.kernel.accessAllowed ? 'block' : 'none';\n",
       "\n",
       "      async function convertToInteractive(key) {\n",
       "        const element = document.querySelector('#df-92c60df4-d45d-4584-8512-0032eded9223');\n",
       "        const dataTable =\n",
       "          await google.colab.kernel.invokeFunction('convertToInteractive',\n",
       "                                                    [key], {});\n",
       "        if (!dataTable) return;\n",
       "\n",
       "        const docLinkHtml = 'Like what you see? Visit the ' +\n",
       "          '<a target=\"_blank\" href=https://colab.research.google.com/notebooks/data_table.ipynb>data table notebook</a>'\n",
       "          + ' to learn more about interactive tables.';\n",
       "        element.innerHTML = '';\n",
       "        dataTable['output_type'] = 'display_data';\n",
       "        await google.colab.output.renderOutput(dataTable, element);\n",
       "        const docLink = document.createElement('div');\n",
       "        docLink.innerHTML = docLinkHtml;\n",
       "        element.appendChild(docLink);\n",
       "      }\n",
       "    </script>\n",
       "  </div>\n",
       "\n",
       "\n",
       "<div id=\"df-a291901d-6e10-4a19-97a3-5f364ed57870\">\n",
       "  <button class=\"colab-df-quickchart\" onclick=\"quickchart('df-a291901d-6e10-4a19-97a3-5f364ed57870')\"\n",
       "            title=\"Suggest charts\"\n",
       "            style=\"display:none;\">\n",
       "\n",
       "<svg xmlns=\"http://www.w3.org/2000/svg\" height=\"24px\"viewBox=\"0 0 24 24\"\n",
       "     width=\"24px\">\n",
       "    <g>\n",
       "        <path d=\"M19 3H5c-1.1 0-2 .9-2 2v14c0 1.1.9 2 2 2h14c1.1 0 2-.9 2-2V5c0-1.1-.9-2-2-2zM9 17H7v-7h2v7zm4 0h-2V7h2v10zm4 0h-2v-4h2v4z\"/>\n",
       "    </g>\n",
       "</svg>\n",
       "  </button>\n",
       "\n",
       "<style>\n",
       "  .colab-df-quickchart {\n",
       "      --bg-color: #E8F0FE;\n",
       "      --fill-color: #1967D2;\n",
       "      --hover-bg-color: #E2EBFA;\n",
       "      --hover-fill-color: #174EA6;\n",
       "      --disabled-fill-color: #AAA;\n",
       "      --disabled-bg-color: #DDD;\n",
       "  }\n",
       "\n",
       "  [theme=dark] .colab-df-quickchart {\n",
       "      --bg-color: #3B4455;\n",
       "      --fill-color: #D2E3FC;\n",
       "      --hover-bg-color: #434B5C;\n",
       "      --hover-fill-color: #FFFFFF;\n",
       "      --disabled-bg-color: #3B4455;\n",
       "      --disabled-fill-color: #666;\n",
       "  }\n",
       "\n",
       "  .colab-df-quickchart {\n",
       "    background-color: var(--bg-color);\n",
       "    border: none;\n",
       "    border-radius: 50%;\n",
       "    cursor: pointer;\n",
       "    display: none;\n",
       "    fill: var(--fill-color);\n",
       "    height: 32px;\n",
       "    padding: 0;\n",
       "    width: 32px;\n",
       "  }\n",
       "\n",
       "  .colab-df-quickchart:hover {\n",
       "    background-color: var(--hover-bg-color);\n",
       "    box-shadow: 0 1px 2px rgba(60, 64, 67, 0.3), 0 1px 3px 1px rgba(60, 64, 67, 0.15);\n",
       "    fill: var(--button-hover-fill-color);\n",
       "  }\n",
       "\n",
       "  .colab-df-quickchart-complete:disabled,\n",
       "  .colab-df-quickchart-complete:disabled:hover {\n",
       "    background-color: var(--disabled-bg-color);\n",
       "    fill: var(--disabled-fill-color);\n",
       "    box-shadow: none;\n",
       "  }\n",
       "\n",
       "  .colab-df-spinner {\n",
       "    border: 2px solid var(--fill-color);\n",
       "    border-color: transparent;\n",
       "    border-bottom-color: var(--fill-color);\n",
       "    animation:\n",
       "      spin 1s steps(1) infinite;\n",
       "  }\n",
       "\n",
       "  @keyframes spin {\n",
       "    0% {\n",
       "      border-color: transparent;\n",
       "      border-bottom-color: var(--fill-color);\n",
       "      border-left-color: var(--fill-color);\n",
       "    }\n",
       "    20% {\n",
       "      border-color: transparent;\n",
       "      border-left-color: var(--fill-color);\n",
       "      border-top-color: var(--fill-color);\n",
       "    }\n",
       "    30% {\n",
       "      border-color: transparent;\n",
       "      border-left-color: var(--fill-color);\n",
       "      border-top-color: var(--fill-color);\n",
       "      border-right-color: var(--fill-color);\n",
       "    }\n",
       "    40% {\n",
       "      border-color: transparent;\n",
       "      border-right-color: var(--fill-color);\n",
       "      border-top-color: var(--fill-color);\n",
       "    }\n",
       "    60% {\n",
       "      border-color: transparent;\n",
       "      border-right-color: var(--fill-color);\n",
       "    }\n",
       "    80% {\n",
       "      border-color: transparent;\n",
       "      border-right-color: var(--fill-color);\n",
       "      border-bottom-color: var(--fill-color);\n",
       "    }\n",
       "    90% {\n",
       "      border-color: transparent;\n",
       "      border-bottom-color: var(--fill-color);\n",
       "    }\n",
       "  }\n",
       "</style>\n",
       "\n",
       "  <script>\n",
       "    async function quickchart(key) {\n",
       "      const quickchartButtonEl =\n",
       "        document.querySelector('#' + key + ' button');\n",
       "      quickchartButtonEl.disabled = true;  // To prevent multiple clicks.\n",
       "      quickchartButtonEl.classList.add('colab-df-spinner');\n",
       "      try {\n",
       "        const charts = await google.colab.kernel.invokeFunction(\n",
       "            'suggestCharts', [key], {});\n",
       "      } catch (error) {\n",
       "        console.error('Error during call to suggestCharts:', error);\n",
       "      }\n",
       "      quickchartButtonEl.classList.remove('colab-df-spinner');\n",
       "      quickchartButtonEl.classList.add('colab-df-quickchart-complete');\n",
       "    }\n",
       "    (() => {\n",
       "      let quickchartButtonEl =\n",
       "        document.querySelector('#df-a291901d-6e10-4a19-97a3-5f364ed57870 button');\n",
       "      quickchartButtonEl.style.display =\n",
       "        google.colab.kernel.accessAllowed ? 'block' : 'none';\n",
       "    })();\n",
       "  </script>\n",
       "</div>\n",
       "\n",
       "    </div>\n",
       "  </div>\n"
      ],
      "application/vnd.google.colaboratory.intrinsic+json": {
       "type": "dataframe",
       "summary": "{\n  \"name\": \"dataframe\",\n  \"rows\": 8,\n  \"fields\": [\n    {\n      \"column\": \"Combination\",\n      \"properties\": {\n        \"dtype\": \"object\",\n        \"semantic_type\": \"\",\n        \"description\": \"\"\n      }\n    },\n    {\n      \"column\": \"Distance\",\n      \"properties\": {\n        \"dtype\": \"number\",\n        \"std\": 0,\n        \"min\": 0,\n        \"max\": 1,\n        \"num_unique_values\": 2,\n        \"samples\": [\n          1,\n          0\n        ],\n        \"semantic_type\": \"\",\n        \"description\": \"\"\n      }\n    }\n  ]\n}"
      }
     },
     "metadata": {},
     "execution_count": 5
    }
   ]
  },
  {
   "cell_type": "markdown",
   "source": [
    "#### C\n"
   ],
   "metadata": {
    "id": "MKFftCdR4QvL"
   }
  },
  {
   "cell_type": "markdown",
   "source": [
    "## Problem 2"
   ],
   "metadata": {
    "id": "v8ux1E3Xc-fS"
   }
  },
  {
   "cell_type": "markdown",
   "source": [
    "#### A"
   ],
   "metadata": {
    "id": "P42cB5dTlpIT"
   }
  },
  {
   "cell_type": "markdown",
   "source": [
    "**a) Probability of excatly $e$ errors**\n",
    "\n",
    "The probability of getting getting exactly $e$ errors can be explaines as follow:\n",
    "- We the number of bits that are going to change can be defined as $\\binom{n}{e}$.\n",
    "- The probability of this bits to change and not the others is $p^{e}(1 - p)^{n - e}$.\n",
    "So, the probability of getting exactly $e$ errors is:\n",
    "\n",
    "$$\\binom{n}{k}⋅p^{e}(1 - p)^{n - e}$$"
   ],
   "metadata": {
    "id": "kdpQL_0PdRJr"
   }
  },
  {
   "cell_type": "markdown",
   "source": [
    "**b) Probability of at least $e$ errors**\n",
    "\n",
    "The probability of getting at least $e$ erros is the sum of the probabilities of getting $e$ errors or more.\n",
    "\n",
    "$$P_{e \\text{ or more errors}} = ∑_{i = e}^{n}\\binom{n}{i}⋅p^{i}(1 - p)^{n - i}$$"
   ],
   "metadata": {
    "id": "yvFrvktRiUsv"
   }
  },
  {
   "cell_type": "markdown",
   "source": [
    "**c) Decoding error probability of the ML decoder**\n",
    "\n",
    "The repetition code can correct $⌊(n - 1) / 2⌋$ errors, so if number of errors is greater, the ML decoder will choose the wrong codeword. The probability of error in the ML decoder is the sum of probabilities that lead to that error. So:\n",
    "\n",
    "$$P_{e \\text{ in ML decoder}} = ∑_{i = \\frac{n + 1}{2}}^{n}\\binom{n}{i}⋅p^{i}(1 - p)^{n - i}$$"
   ],
   "metadata": {
    "id": "ZJf8wW4LjKUU"
   }
  },
  {
   "cell_type": "markdown",
   "source": [
    "#### B\n",
    "**a) Number of corrected erasures is granted?**\n",
    "\n",
    "As we are dealing with a repetition code, the erasures can be easily detected and corrected by considering that there are no errors in the received codeword. Considering that, the number of corrected erasures is based on the distances, so:\n",
    "\n",
    "$$\\text{Corrected erasures} = d - 1$$\n",
    "With $d$ being equal to the distance of the codewords."
   ],
   "metadata": {
    "id": "e53GG5YXlrYA"
   }
  },
  {
   "cell_type": "markdown",
   "source": [
    "#### C\n",
    "**a) Correcting both errors and erasures probability**\n",
    "The formula $2t + ρ \\le d - 1$ ensures that there will be enough non-erased bits to correct errors.\n",
    "\n",
    "All possible combinations for errors and erasures is given by the bynom $\\binom{n}{i + j}$ where $i$ is the number of errors and $j$ the number of erasures.\n",
    "\n",
    "The probabilities of $i$ errors and $j$ erasures is given by $p^{i}⋅ϵ^{j}\\cdot(1 - p - ϵ)^{n - i -j}$ where $p$ is the error probability, $ϵ$ the erasure probability and $(1 - p - ϵ)^{n - i - j}$ the probability of error in the remaining bits\n",
    "\n",
    "If we put it all together, we obtain the following formula:\n",
    "\n",
    "\n",
    "$$P_{\\text{error}} = ∑_{i = t}^{n - ρ} ∑_{j = 0}^{ρ}\\binom{n}{i + j}⋅p^{i}\\cdotϵ^{j}\\cdot(1 - p - ϵ)^{n - i - j}$$\n",
    "Where:\n",
    "- $n$ is the codeword length\n",
    "- $p$ is the error probability of the BCS\n",
    "- $ϵ$ is the erasure probability of the BSC\n",
    "- $t$ is the number of errors to be corrected\n",
    "- $\\binom{n}{i + j}$ represents the number of ways to choose $i + j$ errors or erasures out of $n$ bits\n",
    "- $p^{i}⋅ϵ^{j}⋅(1 - p - ϵ)^{n- i - j}$ is the probability of $i$ errors and $j$ erasures ocurring"
   ],
   "metadata": {
    "id": "YYXk-3NKoDIi"
   }
  },
  {
   "cell_type": "markdown",
   "source": [
    "## Problem 3"
   ],
   "metadata": {
    "id": "jbFLEXv_s7f9"
   }
  },
  {
   "cell_type": "markdown",
   "source": [
    "#### A"
   ],
   "metadata": {
    "id": "5R5LIL0zs_QQ"
   }
  },
  {
   "cell_type": "markdown",
   "source": [
    "**a) Error probability in BSC**\n",
    "\n",
    "For case 1: transmitted bit is 0\n",
    "- The received signal is $r = -\\sqrt{E} + n$\n",
    "- An error occurs is $r > 0$, which means $n > \\sqrt{E}$\n",
    "- The probability of error is $P(error|s0) = Q(\\sqrt{\\frac{E}{σ{2}}})$\n",
    "\n",
    "For case 1: transmitted bit is 1\n",
    "- The received signal is $r = \\sqrt{E} + n$\n",
    "- An error occurs is $r > 0$, which means $n > -\\sqrt{E}$\n",
    "- The probability of error is $P(error|s1) = Q(\\sqrt{\\frac{E}{σ{2}}})$\n",
    "\n",
    "Since two cases are symetric:\n",
    "$$P(error) = Q(\\sqrt{\\frac{E}{σ²}})$$\n"
   ],
   "metadata": {
    "id": "vffIcd0AvW30"
   }
  },
  {
   "cell_type": "markdown",
   "source": [
    "**b) Transition probability matrix**\n",
    "\n",
    "The transition probability matrix $P$ is:\n",
    "\\begin{equation}\n",
    "P =\n",
    "\\begin{pmatrix}\n",
    "P(0|0) & P(0|1) \\\\\n",
    "P(1|0) & P(1|1) \\\\\n",
    "\\end{pmatrix}\n",
    "\\end{equation}\n",
    "Since the channels are symetric:\n",
    "\\begin{equation}\n",
    "P =\n",
    "\\begin{pmatrix}\n",
    "1 - P(error) & P(error) \\\\\n",
    "P(error) & 1 - P(error) \\\\\n",
    "\\end{pmatrix}\n",
    "\\end{equation}"
   ],
   "metadata": {
    "id": "Mmaf3HFXxwzA"
   }
  },
  {
   "cell_type": "markdown",
   "source": [
    "**c) Transition diagram**\n",
    "\n",
    "I found the exact same transition diagram in [here](https://www.researchgate.net/figure/Bit-transition-graph-over-a-BSC-Each-bit-is-flipped-independently-of-other-bits-with-a_fig1_378506390).\n",
    "\n",
    "![Bit-transition-graph-over-a-BSC-Each-bit-is-flipped-independently-of-other-bits-with-a.png](data:image/png;base64,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)\n",
    "\n"
   ],
   "metadata": {
    "id": "KmOUttHAy2Pf"
   }
  },
  {
   "cell_type": "markdown",
   "source": [
    "#### B"
   ],
   "metadata": {
    "id": "kcXHa6NA1u_f"
   }
  },
  {
   "cell_type": "markdown",
   "source": [
    "**a) Plot error probability**"
   ],
   "metadata": {
    "id": "oONIW6r61wdx"
   }
  },
  {
   "cell_type": "code",
   "source": [
    "import numpy as np\n",
    "import scipy.stats as stats\n",
    "import matplotlib.pyplot as plt\n",
    "\n",
    "# Define the signal-to-noise ratio range\n",
    "snr_db = np.linspace(0, 10, 100)\n",
    "snr = 10**(snr_db/10)\n",
    "\n",
    "# Calculate error probability\n",
    "p_error = stats.norm.sf(np.sqrt(snr))\n",
    "\n",
    "# Plot error probability vs. SNR\n",
    "plt.figure(figsize=(8, 5))\n",
    "plt.plot(snr_db, p_error)\n",
    "plt.xlabel(\"Signal-to-Noise Ratio (dB)\")\n",
    "plt.ylabel(\"Error Probability\")\n",
    "plt.title(\"Error Probability vs. SNR\")\n",
    "plt.grid(True)\n",
    "\n",
    "plt.show()"
   ],
   "metadata": {
    "colab": {
     "base_uri": "https://localhost:8080/",
     "height": 439
    },
    "id": "hK0xGSnf110-",
    "outputId": "c2c5fd32-a289-4bf7-a16f-cc7344f43d0a"
   },
   "execution_count": null,
   "outputs": [
    {
     "output_type": "display_data",
     "data": {
      "text/plain": [
       "<Figure size 800x500 with 1 Axes>"
      ],
      "image/png": "[encoded data removed]"
     },
     "metadata": {}
    }
   ]
  },
  {
   "cell_type": "markdown",
   "source": [
    "**b) Expression for the capacity of the BSC with error\n",
    "probability $p$**\n",
    "\n",
    "The capacity of a BSC with error probability $p$ is given by:\n",
    "\n",
    "$$C = 1 - H(p)$$\n",
    "\n",
    "Where $H(p)$ is the binary entropy function $-p⋅\\log_{2}(p) - (1 - p)⋅\\log_{2}(1 - p)$."
   ],
   "metadata": {
    "id": "tLwcppPF2VpQ"
   }
  },
  {
   "cell_type": "markdown",
   "source": [
    "**c) Plotting capacity of BSC af funtion of $p$**\n",
    "\n",
    "We can plot the capacity of the BSC by calculating $P(error)$ for different values of $\\frac{E}{σ²}$ and the using it to calculate C. Here is the Python code:"
   ],
   "metadata": {
    "id": "1BI9ZeW73BkY"
   }
  },
  {
   "cell_type": "code",
   "source": [
    "import numpy as np\n",
    "import scipy.stats as stats\n",
    "import matplotlib.pyplot as plt\n",
    "\n",
    "# Calculate error probability\n",
    "p_error = stats.norm.sf(np.sqrt(snr))  # taking SNR from previous example\n",
    "\n",
    "# Calculate capacity\n",
    "capacity = 1 - (-p_error*np.log2(p_error) - (1-p_error)*np.log2(1-p_error))\n",
    "\n",
    "# Plot capacity vs. p\n",
    "plt.subplot(2, 1, 2)\n",
    "plt.plot(p_error, capacity)\n",
    "plt.xlabel(\"Error Probability\")\n",
    "plt.ylabel(\"Capacity\")\n",
    "plt.title(\"Capacity vs. Error Probability\")\n",
    "\n",
    "plt.grid(True)\n",
    "plt.show()"
   ],
   "metadata": {
    "colab": {
     "base_uri": "https://localhost:8080/",
     "height": 270
    },
    "id": "k0Ml2kSP3aee",
    "outputId": "d632c9f9-269c-48a5-dc4d-e81b57dcde76"
   },
   "execution_count": null,
   "outputs": [
    {
     "output_type": "display_data",
     "data": {
      "text/plain": [
       "<Figure size 640x480 with 1 Axes>"
      ],
      "image/png": "[encoded data removed]"
     },
     "metadata": {}
    }
   ]
  },
  {
   "cell_type": "markdown",
   "source": [
    "**d) Plotting capacity as SNR function**"
   ],
   "metadata": {
    "id": "Mc_TBG9H4T-p"
   }
  },
  {
   "cell_type": "code",
   "source": [
    "import numpy as np\n",
    "import scipy.stats as stats\n",
    "import matplotlib.pyplot as plt\n",
    "\n",
    "# Plot capacity vs SNR, all data as been previously computed\n",
    "plt.figure(figsize=(8, 5))\n",
    "plt.plot(snr_db, capacity)\n",
    "plt.xlabel(\"Signal-to-Noise Ratio (dB)\")\n",
    "plt.ylabel(\"Capacity (bits/channel use)\")\n",
    "plt.title(\"Capacity of BSC vs. SNR\")\n",
    "plt.grid(True)\n",
    "\n",
    "plt.show()"
   ],
   "metadata": {
    "colab": {
     "base_uri": "https://localhost:8080/",
     "height": 444
    },
    "id": "MypIugVP4dW5",
    "outputId": "76b438b5-5242-4509-b2ae-00ab1976c1e9"
   },
   "execution_count": null,
   "outputs": [
    {
     "output_type": "display_data",
     "data": {
      "text/plain": [
       "<Figure size 800x500 with 1 Axes>"
      ],
      "image/png": "[encoded data removed]"
     },
     "metadata": {}
    }
   ]
  },
  {
   "cell_type": "markdown",
   "source": [
    "## Problem 4"
   ],
   "metadata": {
    "id": "d77Tc8s945ds"
   }
  },
  {
   "cell_type": "markdown",
   "source": [
    "#### A"
   ],
   "metadata": {
    "id": "5XgypPqm47qF"
   }
  },
  {
   "cell_type": "markdown",
   "source": [
    "**a) Find covering radius**\n",
    "\n",
    "The covering radius is the maximun distance between all codewords. First we need to find all possible codewords and then calculate the maximun distance."
   ],
   "metadata": {
    "id": "nbmNIi_cdLd7"
   }
  },
  {
   "cell_type": "code",
   "source": [
    "import numpy as np\n",
    "\n",
    "generator_matrix = np.array([\n",
    "    [1, 0, 1, 1],\n",
    "    [0, 1, 0, 1]\n",
    "])\n",
    "\n",
    "all_binary_vectors = np.array([\n",
    "    [0, 0],\n",
    "    [0, 1],\n",
    "    [1, 0],\n",
    "    [1, 1]\n",
    "])\n",
    "\n",
    "codewords = []\n",
    "for vector in all_binary_vectors:\n",
    "    codeword = np.dot(vector, generator_matrix) % 2\n",
    "    codewords.append(codeword)\n",
    "\n",
    "hamming_weights = [np.sum(codeword) for codeword in codewords]\n",
    "\n",
    "non_zero_weights = [weight for weight in hamming_weights if weight > 0]\n",
    "max_distance = max(non_zero_weights)\n",
    "\n",
    "print(f\"The covering radius is: {max_distance}\")"
   ],
   "metadata": {
    "colab": {
     "base_uri": "https://localhost:8080/"
    },
    "id": "rycpsiKbevfu",
    "outputId": "cc3745a2-4f67-49ac-8083-8df308bfe408"
   },
   "execution_count": null,
   "outputs": [
    {
     "output_type": "stream",
     "name": "stdout",
     "text": [
      "The covering radius is: 3\n"
     ]
    }
   ]
  },
  {
   "cell_type": "markdown",
   "source": [
    "#### B"
   ],
   "metadata": {
    "id": "iRczZavOgHB7"
   }
  },
  {
   "cell_type": "markdown",
   "source": [
    "**a) How many correction of errors can be guaranteed?**\n",
    "\n",
    "We can correct $⌊\\frac{(d - 1)}{2}⌋$ errors, with $d$ equal to the minimun distance for the code."
   ],
   "metadata": {
    "id": "WBzJX-FJgILE"
   }
  },
  {
   "cell_type": "code",
   "source": [
    "import numpy as np\n",
    "import math\n",
    "\n",
    "generator_matrix = np.array([\n",
    "    [1, 1, 0, 0, 1, 1],\n",
    "    [0, 1, 1, 0, 1, 0],\n",
    "    [1, 1, 0, 1, 0, 1]\n",
    "])\n",
    "\n",
    "all_binary_vectors = np.array([\n",
    "    [0, 0, 0],\n",
    "    [0, 0, 1],\n",
    "    [0, 1, 0],\n",
    "    [0, 1, 1],\n",
    "    [1, 0, 0],\n",
    "    [1, 0, 1],\n",
    "    [1, 1, 0],\n",
    "    [1, 1, 1]\n",
    "])\n",
    "\n",
    "codewords = []\n",
    "for vector in all_binary_vectors:\n",
    "    codeword = np.dot(vector, generator_matrix) % 2\n",
    "    codewords.append(codeword)\n",
    "\n",
    "hamming_weights = [np.sum(codeword) for codeword in codewords]\n",
    "non_zero_weights = [weight for weight in hamming_weights if weight > 0]\n",
    "\n",
    "min_distance = min(non_zero_weights)\n",
    "\n",
    "print(f\"The minimun distance is: {min_distance}\")\n",
    "max_errors = math.floor((min_distance - 1) / 2)\n",
    "\n",
    "print(f\"The maximun number of corrected errors is: {max_errors}\")"
   ],
   "metadata": {
    "colab": {
     "base_uri": "https://localhost:8080/"
    },
    "id": "mLaEtgVwizf1",
    "outputId": "528acb47-0c62-4b19-fe50-0bdb8150bdc6"
   },
   "execution_count": null,
   "outputs": [
    {
     "output_type": "stream",
     "name": "stdout",
     "text": [
      "The minimun distance is: 2\n",
      "The maximun number of corrected errors is: 0\n"
     ]
    }
   ]
  },
  {
   "cell_type": "markdown",
   "source": [
    "**b) Maximal weight of the error pattern which can be solved by ML decoder**\n",
    "\n",
    "The value of the maximal weight of error solved by ML decoder is the same as the maximun number of corrected erros, which in this case is equal to **0**."
   ],
   "metadata": {
    "id": "5jt5XY-LjDD4"
   }
  },
  {
   "cell_type": "markdown",
   "source": [
    "#### C"
   ],
   "metadata": {
    "id": "Nq2TF9ZOpQfk"
   }
  },
  {
   "cell_type": "markdown",
   "source": [
    "**a) Systematic generator and parity check matrix for code length $n = 5$**\n",
    "\n",
    "For a single parity-check code of length $n = 5$, the codeword consists of 4 information bits and 1 parity bit, leading to a $[5, 4]$ code, where $k = 4$ and $n = 5$.\n",
    "\n",
    "The systematic generator matrix is:\n",
    "\n",
    "\\begin{equation}\n",
    "G=\n",
    "\\begin{pmatrix}\n",
    "  1 & 0 & 0 & 0 & 1 \\\\\n",
    "  0 & 1 & 0 & 0 & 1 \\\\\n",
    "  0 & 0 & 1 & 0 & 1 \\\\\n",
    "  0 & 0 & 0 & 1 & 1 \\\\\n",
    "\\end{pmatrix}\n",
    "\\end{equation}\n",
    "\n",
    "- The first $k$ columns represent the identity matrix $I_{4}$.\n",
    "- The last column adds the parity check bit to ensure that the sum is even.\n",
    "\n",
    "The parity-check matrix is defined as $H = (-P^{T} I_{r})$, where $P^{T}$ is the transpose of $P$ and $I_{r}$ is the identity matrix of size $r × r$ (with $r = n - k$).\n",
    "\n",
    "\\begin{equation}\n",
    "P^{T}=\n",
    "\\begin{pmatrix}\n",
    "  1 & 1 & 1 & 1 \\\\\n",
    "\\end{pmatrix}\n",
    "\\end{equation}\n",
    "\\begin{equation}\n",
    "I_{1} =\n",
    "\\begin{pmatrix}\n",
    "1 \\\\\n",
    "\\end{pmatrix}\n",
    "\\end{equation}\n",
    "\n",
    "As we are working in binary, the negation does not affect, so:\n",
    "\\begin{equation}\n",
    "H=\n",
    "\\begin{pmatrix}\n",
    "  1 & 1 & 1 & 1 & 1\\\\\n",
    "\\end{pmatrix}\n",
    "\\end{equation}"
   ],
   "metadata": {
    "id": "4bXJivfLpSCL"
   }
  },
  {
   "cell_type": "markdown",
   "source": [
    "#### D"
   ],
   "metadata": {
    "id": "eKhbDRIXyvYu"
   }
  },
  {
   "cell_type": "markdown",
   "source": [
    "**a) Systematic generator and parity check matrix for Hamming code of length $n = 8$**\n",
    "\n",
    "As wexare working with extended Hamming code, the original Hamming code has $n - 1 = 7$ bits. For the original Hamming code the matrix is:\n",
    "\n",
    "\\begin{equation}\n",
    "H_7=\n",
    "\\begin{pmatrix}\n",
    "0 & 0 & 0 & 1 & 1 & 1 & 1 \\\\\n",
    "0 & 1 & 1 & 0 & 0 & 1 & 1 \\\\\n",
    "1 & 0 & 1 & 0 & 1 & 0 & 1 \\\\\n",
    "\\end{pmatrix}\n",
    "\\end{equation}\n",
    "\n",
    "An now wec extend it with 0s column am 1s row:\n",
    "\n",
    "\\begin{equation}\n",
    "H_8=\n",
    "\\begin{pmatrix}\n",
    "0 & 0 & 0 & 1 & 1 & 1 & 1 & 0\\\\\n",
    "0 & 1 & 1 & 0 & 0 & 1 & 1 & 0\\\\\n",
    "1 & 0 & 1 & 0 & 1 & 0 & 1 & 0\\\\\n",
    "1 & 1 & 1 & 1 & 1 & 1 & 1 & 1\\\\\n",
    "\\end{pmatrix}\n",
    "\\end{equation}\n",
    "\n",
    "The generator matrix $G$ is in the form $[I_k|P^T]$ where $I_k$ is thevidentity matrix of size $k\\times k$, where\n",
    "- $k= n - r - 1= 8-3-1=4$\n",
    "- $P$ is the parity bit matrix from\n",
    "From previous $H_7$ we can extract P as the most right part of $H$. So:\n",
    "\n",
    "\\begin{equation}\n",
    "P^T =\n",
    "\\begin{pmatrix}\n",
    "0 & 1 & 1 \\\\\n",
    "1 & 0 & 1 \\\\\n",
    "1 & 1 & 0 \\\\\n",
    "1 & 1 & 1 \\\\\n",
    "\\end{pmatrix}\n",
    "\\end{equation}\n",
    "\n",
    "\n",
    "\\begin{equation}\n",
    "G =\n",
    "\\begin{pmatrix}\n",
    "1 & 0 & 0 & 0 & 0 & 1 & 1 \\\\\n",
    "0 & 1 & 0 & 0 & 1 & 0 & 1 \\\\\n",
    "0 & 0 & 1 & 0 & 1 & 1 & 0 \\\\\n",
    "0 & 0 & 0 & 1 & 1 & 1 & 1 \\\\\n",
    "\\end{pmatrix}\n",
    "\\end{equation}"
   ],
   "metadata": {
    "id": "aGefXDRdyxBC"
   }
  },
  {
   "cell_type": "markdown",
   "source": [
    "## Problem 5"
   ],
   "metadata": {
    "id": "4hdDYwC9zC1B"
   }
  },
  {
   "cell_type": "markdown",
   "source": [
    "A\n",
    "\n",
    "**a) Construct the syndome table for the extended Hamming code of length $n = 8$**\n",
    "\n",
    "Considering that the matrix H was right, the syndrome table is the following\n",
    "\\begin{equation}\n",
    "H_8=\n",
    "\\begin{pmatrix}\n",
    "0 & 0 & 0 & 1 & 1 & 1 & 1 & 0\\\\\n",
    "0 & 1 & 1 & 0 & 0 & 1 & 1 & 0\\\\\n",
    "1 & 0 & 1 & 0 & 1 & 0 & 1 & 0\\\\\n",
    "1 & 1 & 1 & 1 & 1 & 1 & 1 & 1\\\\\n",
    "\\end{pmatrix}\n",
    "\\end{equation}\n",
    "\n",
    "| Syndrome | Error vector |\n",
    "| -------- | ------------ |\n",
    "| 0000 | 00000000 |\n",
    "| 0001 | 00000001 |\n",
    "| 0010 | 10000001 |\n",
    "| 0011 | 10000000 |\n",
    "| 0100 | 01000001 |\n",
    "| 0101 | 01000000 |\n",
    "| 0110 | 00100001 |\n",
    "| 0111 | 00100000 |\n",
    "| 1000 | 00010001 |\n",
    "| 1001 | 00010000 |\n",
    "| 1010 | 10010000 |\n",
    "| 1011 | 00001000 |\n",
    "| 1100 | 10000010 |\n",
    "| 1101 | 00000100 |\n",
    "| 1110 | 00000011 |\n",
    "| 1111 | 00000010 |\n",
    "\n",
    "We can detect and correct 1-bit error and detect but not correct 2-bit errors.\n",
    "\n",
    "**b) Maximal weight of error pattern**\n",
    "\n",
    "The maximal weight of an error pattern that can be corrected by this syndrom decoder is **1**."
   ],
   "metadata": {
    "id": "uEogauBgJMSp"
   }
  },
  {
   "cell_type": "markdown",
   "source": [
    "B"
   ],
   "metadata": {
    "id": "cugYM7knJNmm"
   }
  },
  {
   "cell_type": "markdown",
   "source": [
    "**a) Probabilities computing**\n",
    "\n",
    "$$p(r|c_{i}) = p^{d}⋅(1 - p)^{8 - d}$$\n",
    "$$p(r|c_{0}) = p^{5}⋅(1 - p)^{3}$$\n",
    "$$p(r|c_{1}) = p^{6}⋅(1 - p)^{2}$$\n",
    "$$p(r|c_{2}) = p^{6}⋅(1 - p)^{2}$$\n",
    "$$p(r|c_{3}) = p^{7}⋅(1 - p)^{1}$$\n",
    "$$p(r|c_{4}) = p^{6}⋅(1 - p)^{2}$$\n",
    "$$p(r|c_{5}) = p^{7}⋅(1 - p)^{1}$$\n",
    "$$p(r|c_{6}) = p^{7}⋅(1 - p)^{1}$$\n",
    "$$p(r|c_{7}) = p^{8}⋅(1 - p)^{0}$$\n",
    "$$p(r|c_{8}) = p^{4}⋅(1 - p)^{4}$$\n",
    "$$p(r|c_{9}) = p^{5}⋅(1 - p)^{3}$$\n",
    "$$p(r|c_{10}) = p^{5}⋅(1 - p)^{3}$$\n",
    "$$p(r|c_{11}) = p^{6}⋅(1 - p)^{2}$$\n",
    "$$p(r|c_{12}) = p^{5}⋅(1 - p)^{3}$$\n",
    "$$p(r|c_{13}) = p^{6}⋅(1 - p)^{2}$$\n",
    "$$p(r|c_{14}) = p^{6}⋅(1 - p)^{2}$$\n",
    "$$p(r|c_{15}) = p^{7}⋅(1 - p)^{1}$$\n",
    "$$p(r|c_{16}) = p^{4}⋅(1 - p)^{4}$$"
   ],
   "metadata": {
    "id": "87h2qt01JQbf"
   }
  },
  {
   "cell_type": "markdown",
   "source": [
    "**b) Compute Hamming distances**"
   ],
   "metadata": {
    "id": "CQ-68lEgNOC5"
   }
  },
  {
   "cell_type": "code",
   "source": [
    "import numpy as np\n",
    "\n",
    "vector_r = np.array([[1, 1, 1, 1, 1, 0, 0, 0]])\n",
    "\n",
    "codewords = np.array([\n",
    "    [0, 0, 0, 0, 0, 0, 0, 1],\n",
    "    [0, 0, 0, 0, 0, 0, 1, 0],\n",
    "    [0, 0, 0, 0, 0, 0, 1, 1],\n",
    "    [0, 0, 0, 0, 0, 1, 0, 0],\n",
    "    [0, 0, 0, 0, 0, 1, 0, 1],\n",
    "    [0, 0, 0, 0, 0, 1, 1, 0],\n",
    "    [0, 0, 0, 0, 0, 1, 1, 1],\n",
    "    [0, 0, 0, 0, 1, 0, 0, 0],\n",
    "    [0, 0, 0, 0, 1, 0, 0, 1],\n",
    "    [0, 0, 0, 0, 1, 0, 1, 0],\n",
    "    [0, 0, 0, 0, 1, 0, 1, 1],\n",
    "    [0, 0, 0, 0, 1, 1, 0, 0],\n",
    "    [0, 0, 0, 0, 1, 1, 0, 1],\n",
    "    [0, 0, 0, 0, 1, 1, 1, 0],\n",
    "    [0, 0, 0, 0, 1, 1, 1, 1],\n",
    "    [0, 0, 0, 0, 1, 0, 0, 0]\n",
    "    ])\n",
    "\n",
    "def hamming_distances():\n",
    "    distances = []\n",
    "    for codeword in codewords:\n",
    "        distance = np.sum(np.abs(vector_r - codeword))\n",
    "        distances.append(distance)\n",
    "    return distances\n",
    "\n",
    "distances = hamming_distances()\n",
    "\n",
    "print(distances)"
   ],
   "metadata": {
    "colab": {
     "base_uri": "https://localhost:8080/"
    },
    "id": "NUBKBhE1NYfu",
    "outputId": "51766272-4541-4c42-e27d-24b894184ee0"
   },
   "execution_count": null,
   "outputs": [
    {
     "output_type": "stream",
     "name": "stdout",
     "text": [
      "[6, 6, 7, 6, 7, 7, 8, 4, 5, 5, 6, 5, 6, 6, 7, 4]\n"
     ]
    }
   ]
  },
  {
   "cell_type": "markdown",
   "source": [
    "#### C"
   ],
   "metadata": {
    "id": "pbtfZ9lpPDMx"
   }
  },
  {
   "cell_type": "markdown",
   "source": [],
   "metadata": {
    "id": "KVPCNJIUPEtP"
   }
  },
  {
   "cell_type": "markdown",
   "source": [
    "**a) Formulate ML and MAP decoding rules**\n",
    "\n",
    "For ML:\n",
    "$$ĉ_{ML} = \\text{arg }max_{c \\in C}P(y|c)$$\n",
    "\n",
    "Where:\n",
    "- $ĉ_{ML}$ is the decoded message\n",
    "- $y$ is the reived signal/vector\n",
    "- $c$ is the candidate codeword from the set of codewords $C$\n",
    "- $P(y|c)$ is the probability of receiving $y$ given that $c$ was transmited.\n",
    "\n",
    "For MAP:\n",
    "$$ĉ_{MAP} = \\text{arg }max_{c \\in C}P(c|y)$$\n",
    "\n",
    "Using Bayes Theorem:\n",
    "$$P(c|y) = \\frac{P(y|c)P(c)}{P(y)}$$\n",
    "\n",
    "Where:\n",
    "- $P(c|y)$ is the probability of receiving $y$ given that $c$ was transmited.\n",
    "- $P(c)$ is the prior probability of codeword $c$.\n",
    "- $P(y)$ is the total probability of receiving $y$, computed as $P(y) = ∑_{c \\in C}P(y|c)P(c)$, but it is constant for all codewords."
   ],
   "metadata": {
    "id": "7Fw2wjUEPIYp"
   }
  },
  {
   "cell_type": "markdown",
   "source": [
    "#### D"
   ],
   "metadata": {
    "id": "WH82ryyhPNVy"
   }
  },
  {
   "cell_type": "markdown",
   "source": [
    "**a) Formulate equivalent ML decoding rule for BSC**\n",
    "\n",
    "$$P(y|c) = p^{d_H(y, c)}(1 - p)^{n - d_{H}(y, c)}$$\n",
    "\n",
    "Where:\n",
    "- $d_{H}(y, c)$ is the Hamming distance between $y$ and $c$.\n",
    "- $n$ is the length of the codeword\n",
    "- $p$ is the probability of bit flipping during transmission"
   ],
   "metadata": {
    "id": "z42oMQszPOrL"
   }
  },
  {
   "metadata": {
    "ExecuteTime": {
     "end_time": "2024-09-27T13:54:20.642383Z",
     "start_time": "2024-09-27T13:54:19.309186Z"
    }
   },
   "cell_type": "code",
   "source": "!jupyter nbconvert --to html HW1.ipynb",
   "outputs": [
    {
     "name": "stdout",
     "output_type": "stream",
     "text": [
      "[NbConvertApp] WARNING | pattern 'HW1.ipynb' matched no files\r\n",
      "This application is used to convert notebook files (*.ipynb)\r\n",
      "        to various other formats.\r\n",
      "\r\n",
      "        WARNING: THE COMMANDLINE INTERFACE MAY CHANGE IN FUTURE RELEASES.\r\n",
      "\r\n",
      "Options\r\n",
      "=======\r\n",
      "The options below are convenience aliases to configurable class-options,\r\n",
      "as listed in the \"Equivalent to\" description-line of the aliases.\r\n",
      "To see all configurable class-options for some <cmd>, use:\r\n",
      "    <cmd> --help-all\r\n",
      "\r\n",
      "--debug\r\n",
      "    set log level to logging.DEBUG (maximize logging output)\r\n",
      "    Equivalent to: [--Application.log_level=10]\r\n",
      "--show-config\r\n",
      "    Show the application's configuration (human-readable format)\r\n",
      "    Equivalent to: [--Application.show_config=True]\r\n",
      "--show-config-json\r\n",
      "    Show the application's configuration (json format)\r\n",
      "    Equivalent to: [--Application.show_config_json=True]\r\n",
      "--generate-config\r\n",
      "    generate default config file\r\n",
      "    Equivalent to: [--JupyterApp.generate_config=True]\r\n",
      "-y\r\n",
      "    Answer yes to any questions instead of prompting.\r\n",
      "    Equivalent to: [--JupyterApp.answer_yes=True]\r\n",
      "--execute\r\n",
      "    Execute the notebook prior to export.\r\n",
      "    Equivalent to: [--ExecutePreprocessor.enabled=True]\r\n",
      "--allow-errors\r\n",
      "    Continue notebook execution even if one of the cells throws an error and include the error message in the cell output (the default behaviour is to abort conversion). This flag is only relevant if '--execute' was specified, too.\r\n",
      "    Equivalent to: [--ExecutePreprocessor.allow_errors=True]\r\n",
      "--stdin\r\n",
      "    read a single notebook file from stdin. Write the resulting notebook with default basename 'notebook.*'\r\n",
      "    Equivalent to: [--NbConvertApp.from_stdin=True]\r\n",
      "--stdout\r\n",
      "    Write notebook output to stdout instead of files.\r\n",
      "    Equivalent to: [--NbConvertApp.writer_class=StdoutWriter]\r\n",
      "--inplace\r\n",
      "    Run nbconvert in place, overwriting the existing notebook (only\r\n",
      "            relevant when converting to notebook format)\r\n",
      "    Equivalent to: [--NbConvertApp.use_output_suffix=False --NbConvertApp.export_format=notebook --FilesWriter.build_directory=]\r\n",
      "--clear-output\r\n",
      "    Clear output of current file and save in place,\r\n",
      "            overwriting the existing notebook.\r\n",
      "    Equivalent to: [--NbConvertApp.use_output_suffix=False --NbConvertApp.export_format=notebook --FilesWriter.build_directory= --ClearOutputPreprocessor.enabled=True]\r\n",
      "--no-prompt\r\n",
      "    Exclude input and output prompts from converted document.\r\n",
      "    Equivalent to: [--TemplateExporter.exclude_input_prompt=True --TemplateExporter.exclude_output_prompt=True]\r\n",
      "--no-input\r\n",
      "    Exclude input cells and output prompts from converted document.\r\n",
      "            This mode is ideal for generating code-free reports.\r\n",
      "    Equivalent to: [--TemplateExporter.exclude_output_prompt=True --TemplateExporter.exclude_input=True --TemplateExporter.exclude_input_prompt=True]\r\n",
      "--allow-chromium-download\r\n",
      "    Whether to allow downloading chromium if no suitable version is found on the system.\r\n",
      "    Equivalent to: [--WebPDFExporter.allow_chromium_download=True]\r\n",
      "--disable-chromium-sandbox\r\n",
      "    Disable chromium security sandbox when converting to PDF..\r\n",
      "    Equivalent to: [--WebPDFExporter.disable_sandbox=True]\r\n",
      "--show-input\r\n",
      "    Shows code input. This flag is only useful for dejavu users.\r\n",
      "    Equivalent to: [--TemplateExporter.exclude_input=False]\r\n",
      "--embed-images\r\n",
      "    Embed the images as base64 dataurls in the output. This flag is only useful for the HTML/WebPDF/Slides exports.\r\n",
      "    Equivalent to: [--HTMLExporter.embed_images=True]\r\n",
      "--sanitize-html\r\n",
      "    Whether the HTML in Markdown cells and cell outputs should be sanitized..\r\n",
      "    Equivalent to: [--HTMLExporter.sanitize_html=True]\r\n",
      "--log-level=<Enum>\r\n",
      "    Set the log level by value or name.\r\n",
      "    Choices: any of [0, 10, 20, 30, 40, 50, 'DEBUG', 'INFO', 'WARN', 'ERROR', 'CRITICAL']\r\n",
      "    Default: 30\r\n",
      "    Equivalent to: [--Application.log_level]\r\n",
      "--config=<Unicode>\r\n",
      "    Full path of a config file.\r\n",
      "    Default: ''\r\n",
      "    Equivalent to: [--JupyterApp.config_file]\r\n",
      "--to=<Unicode>\r\n",
      "    The export format to be used, either one of the built-in formats\r\n",
      "            ['asciidoc', 'custom', 'html', 'latex', 'markdown', 'notebook', 'pdf', 'python', 'qtpdf', 'qtpng', 'rst', 'script', 'slides', 'webpdf']\r\n",
      "            or a dotted object name that represents the import path for an\r\n",
      "            ``Exporter`` class\r\n",
      "    Default: ''\r\n",
      "    Equivalent to: [--NbConvertApp.export_format]\r\n",
      "--template=<Unicode>\r\n",
      "    Name of the template to use\r\n",
      "    Default: ''\r\n",
      "    Equivalent to: [--TemplateExporter.template_name]\r\n",
      "--template-file=<Unicode>\r\n",
      "    Name of the template file to use\r\n",
      "    Default: None\r\n",
      "    Equivalent to: [--TemplateExporter.template_file]\r\n",
      "--theme=<Unicode>\r\n",
      "    Template specific theme(e.g. the name of a JupyterLab CSS theme distributed\r\n",
      "    as prebuilt extension for the lab template)\r\n",
      "    Default: 'light'\r\n",
      "    Equivalent to: [--HTMLExporter.theme]\r\n",
      "--sanitize_html=<Bool>\r\n",
      "    Whether the HTML in Markdown cells and cell outputs should be sanitized.This\r\n",
      "    should be set to True by nbviewer or similar tools.\r\n",
      "    Default: False\r\n",
      "    Equivalent to: [--HTMLExporter.sanitize_html]\r\n",
      "--writer=<DottedObjectName>\r\n",
      "    Writer class used to write the\r\n",
      "                                        results of the conversion\r\n",
      "    Default: 'FilesWriter'\r\n",
      "    Equivalent to: [--NbConvertApp.writer_class]\r\n",
      "--post=<DottedOrNone>\r\n",
      "    PostProcessor class used to write the\r\n",
      "                                        results of the conversion\r\n",
      "    Default: ''\r\n",
      "    Equivalent to: [--NbConvertApp.postprocessor_class]\r\n",
      "--output=<Unicode>\r\n",
      "    Overwrite base name use for output files.\r\n",
      "                Supports pattern replacements '{notebook_name}'.\r\n",
      "    Default: '{notebook_name}'\r\n",
      "    Equivalent to: [--NbConvertApp.output_base]\r\n",
      "--output-dir=<Unicode>\r\n",
      "    Directory to write output(s) to. Defaults\r\n",
      "                                  to output to the directory of each notebook. To recover\r\n",
      "                                  previous default behaviour (outputting to the current\r\n",
      "                                  working directory) use . as the flag value.\r\n",
      "    Default: ''\r\n",
      "    Equivalent to: [--FilesWriter.build_directory]\r\n",
      "--reveal-prefix=<Unicode>\r\n",
      "    The URL prefix for reveal.js (version 3.x).\r\n",
      "            This defaults to the reveal CDN, but can be any url pointing to a copy\r\n",
      "            of reveal.js.\r\n",
      "            For speaker notes to work, this must be a relative path to a local\r\n",
      "            copy of reveal.js: e.g., \"reveal.js\".\r\n",
      "            If a relative path is given, it must be a subdirectory of the\r\n",
      "            current directory (from which the server is run).\r\n",
      "            See the usage documentation\r\n",
      "            (https://nbconvert.readthedocs.io/en/latest/usage.html#reveal-js-html-slideshow)\r\n",
      "            for more details.\r\n",
      "    Default: ''\r\n",
      "    Equivalent to: [--SlidesExporter.reveal_url_prefix]\r\n",
      "--nbformat=<Enum>\r\n",
      "    The nbformat version to write.\r\n",
      "            Use this to downgrade notebooks.\r\n",
      "    Choices: any of [1, 2, 3, 4]\r\n",
      "    Default: 4\r\n",
      "    Equivalent to: [--NotebookExporter.nbformat_version]\r\n",
      "\r\n",
      "Examples\r\n",
      "--------\r\n",
      "\r\n",
      "    The simplest way to use nbconvert is\r\n",
      "\r\n",
      "            > jupyter nbconvert mynotebook.ipynb --to html\r\n",
      "\r\n",
      "            Options include ['asciidoc', 'custom', 'html', 'latex', 'markdown', 'notebook', 'pdf', 'python', 'qtpdf', 'qtpng', 'rst', 'script', 'slides', 'webpdf'].\r\n",
      "\r\n",
      "            > jupyter nbconvert --to latex mynotebook.ipynb\r\n",
      "\r\n",
      "            Both HTML and LaTeX support multiple output templates. LaTeX includes\r\n",
      "            'base', 'article' and 'report'.  HTML includes 'basic', 'lab' and\r\n",
      "            'classic'. You can specify the flavor of the format used.\r\n",
      "\r\n",
      "            > jupyter nbconvert --to html --template lab mynotebook.ipynb\r\n",
      "\r\n",
      "            You can also pipe the output to stdout, rather than a file\r\n",
      "\r\n",
      "            > jupyter nbconvert mynotebook.ipynb --stdout\r\n",
      "\r\n",
      "            PDF is generated via latex\r\n",
      "\r\n",
      "            > jupyter nbconvert mynotebook.ipynb --to pdf\r\n",
      "\r\n",
      "            You can get (and serve) a Reveal.js-powered slideshow\r\n",
      "\r\n",
      "            > jupyter nbconvert myslides.ipynb --to slides --post serve\r\n",
      "\r\n",
      "            Multiple notebooks can be given at the command line in a couple of\r\n",
      "            different ways:\r\n",
      "\r\n",
      "            > jupyter nbconvert notebook*.ipynb\r\n",
      "            > jupyter nbconvert notebook1.ipynb notebook2.ipynb\r\n",
      "\r\n",
      "            or you can specify the notebooks list in a config file, containing::\r\n",
      "\r\n",
      "                c.NbConvertApp.notebooks = [\"my_notebook.ipynb\"]\r\n",
      "\r\n",
      "            > jupyter nbconvert --config mycfg.py\r\n",
      "\r\n",
      "To see all available configurables, use `--help-all`.\r\n",
      "\r\n"
     ]
    }
   ],
   "execution_count": 3
  },
  {
   "metadata": {
    "ExecuteTime": {
     "end_time": "2024-09-27T13:56:21.896863Z",
     "start_time": "2024-09-27T13:56:14.869223Z"
    }
   },
   "cell_type": "code",
   "source": [
    "# to html\n",
    "!jupyter nbconvert --to pdf HW1.ipynb"
   ],
   "outputs": [
    {
     "name": "stdout",
     "output_type": "stream",
     "text": [
      "[NbConvertApp] Converting notebook HW1.ipynb to pdf\r\n",
      "[NbConvertApp] Support files will be in HW1_files/\r\n",
      "[NbConvertApp] Making directory ./HW1_files\r\n",
      "[NbConvertApp] Writing 73524 bytes to notebook.tex\r\n",
      "[NbConvertApp] Building PDF\r\n",
      "[NbConvertApp] Running xelatex 3 times: ['xelatex', 'notebook.tex', '-quiet']\r\n",
      "[NbConvertApp] Running bibtex 1 time: ['bibtex', 'notebook']\r\n",
      "[NbConvertApp] WARNING | bibtex had problems, most likely because there were no citations\r\n",
      "[NbConvertApp] PDF successfully created\r\n",
      "[NbConvertApp] Writing 176874 bytes to HW1.pdf\r\n"
     ]
    }
   ],
   "execution_count": 2
  }
 ]
}
