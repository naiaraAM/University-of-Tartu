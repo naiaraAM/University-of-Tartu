{
 "nbformat": 4,
 "nbformat_minor": 0,
 "metadata": {
  "colab": {
   "provenance": []
  },
  "kernelspec": {
   "name": "python3",
   "display_name": "Python 3 (ipykernel)",
   "language": "python"
  },
  "language_info": {
   "name": "python"
  }
 },
 "cells": [
  {
   "cell_type": "markdown",
   "source": [
    "# Homework 5 - Naiara Alonso Montes"
   ],
   "metadata": {
    "id": "pc-6fRgBPqm9"
   }
  },
  {
   "cell_type": "markdown",
   "source": [
    "## Problem 1"
   ],
   "metadata": {
    "id": "JkMuXRGnPua8"
   }
  },
  {
   "cell_type": "markdown",
   "source": [
    "### How many errors can correct this code?\n",
    "\n",
    "$n = 15$, $k=9$, $q=16$\n",
    "\n",
    "$d -1 = n -k ⇒ d = 15 - 9 + 1 = 7$\n",
    "\n",
    "$d = 2t + 1 ⇒ t = \\frac{d - 1}{2} = \\frac{7 - 1}{2} = 3$\n",
    "\n",
    "This code can correct 3 errors"
   ],
   "metadata": {
    "id": "LVA4vXwwPwla"
   }
  },
  {
   "cell_type": "markdown",
   "source": [
    "### Find error positions\n",
    "$s_1 =α^{13}$\n",
    "\n",
    "$s_2 =α^{4}$\n",
    "\n",
    "$s_3 =α^{8}$\n",
    "\n",
    "$s_4 =α^{2}$\n",
    "\n",
    "$s_5 =α^{3}$\n",
    "\n",
    "$s_6 =α^{8}$\n",
    "\n",
    "$s(x) = α^{13} + α^{4}x + α^{8}x^2 + α^{2}x^3 + α^{3}x^4 + α^{8}x^5$\n",
    "\n",
    "$Λ(x) = 1 + α^{3}x + α^{11}x^2 + α^{9}x^3$\n",
    "\n",
    "Error positions: $x_1 = α$, $x_2 = α^{7}$, $x_3 = α^{13}$"
   ],
   "metadata": {
    "id": "onSRz2MfQUVg"
   }
  },
  {
   "cell_type": "markdown",
   "source": [
    "### Find the error magnitude polynomial\n",
    "\n",
    "$Ω(x) = s(x)Λ(x) = α^{13} + x + α^{2}x^2 + α^{14}x^6 + α^{6}x^7 + α^{2}x^8$ mod $x^6$ $= α^{13} + x + α^{14} + α^{6}x = α^{2} + α^{6}x$"
   ],
   "metadata": {
    "id": "X4LCMmikRZUf"
   }
  },
  {
   "cell_type": "markdown",
   "source": [
    "### Find the error values by Forney's algorithm\n",
    "\n",
    "$y_i = \\frac{x_i^{-1}Ω(x_i^{-1})}{Π_{j\\ne i}(1 - x_jx_i^{-1})}$\n",
    "\n",
    "$y_1 = \\frac{\\alpha^{14}⋅(α^{2}+α^{5})}{1+α^{7}⋅α^{13}α^{14}} = \\frac{α^{0}}{α} = α^{14}$\n",
    "\n",
    "$y_2 = \\frac{\\alpha^{8}⋅(α^{2}+α^{14})}{1+α⋅α^{13}α^{8}} = \\frac{α^{13}}{α^{9}} = α^{4}$\n",
    "\n",
    "$y_3 = \\frac{\\alpha^{2}⋅(α^{2}+α^{8})}{1+α⋅α^{7}α^{2}} = \\frac{α^{2}}{α^{5}} = α^{12}$"
   ],
   "metadata": {
    "id": "sTHohJBdSIdx"
   }
  },
  {
   "cell_type": "markdown",
   "source": [
    "## Problem 2"
   ],
   "metadata": {
    "id": "1_LjmGN9U99U"
   }
  },
  {
   "cell_type": "markdown",
   "source": [
    "### Encode the message 1 0 1 1 1 1 0 0 0 1 1 1 by the product code consisting of $[5, 4, 2]$ code $𝐶_1$ and $[4, 3, 2]$ code $𝐶_2$.\n",
    "\n",
    "Display in a matrix based on $𝐶_1$ and $𝐶_2$ parameters.\n",
    "\\begin{equation}\n",
    "\\begin{pmatrix}\n",
    "1 & 0 & 1 & 1\\\\\n",
    "1 & 1 & 0 & 0\\\\\n",
    "0 & 1 & 1 & 1\\\\\n",
    "\\end{pmatrix}\n",
    "\\end{equation}\n",
    "\n",
    "For each row, encode using $𝐶_1$ generator matrix $G_1$:\n",
    "\\begin{equation}\n",
    "G_1=\n",
    "\\begin{pmatrix}\n",
    "1 & 0 & 0 & 0 & 1\\\\\n",
    "0 & 1 & 0 & 0 & 1\\\\\n",
    "0 & 0 & 1 & 0 & 0\\\\\n",
    "0 & 0 & 0 & 1 & 0\n",
    "\\end{pmatrix}\n",
    "\\end{equation}\n",
    "\n",
    "* Row 1: 1011 -> $G_1$⋅Row 1 = 10111\n",
    "* Row 2: 1100 -> $G_1$⋅Row 2 = 11000\n",
    "* Row 3: 0111 -> $G_1$⋅Row 3 = 01111\n",
    "\n",
    "Encoded message: $10111100001111$"
   ],
   "metadata": {
    "id": "6qkggTzrVAJg"
   }
  },
  {
   "cell_type": "markdown",
   "source": [
    "### What are the paramenters of the product code?\n",
    "\n",
    "$n = 20$, $k = 12$, $d≥4$"
   ],
   "metadata": {
    "id": "nNNDrZGOVZg9"
   }
  },
  {
   "cell_type": "markdown",
   "source": [
    "### Write down a generator matrix of the product code\n",
    "\n",
    "\\begin{equation}\n",
    "G_1=\n",
    "\\begin{pmatrix}\n",
    "1 & 0 & 0 & 0 & 1\\\\\n",
    "0 & 1 & 0 & 0 & 1\\\\\n",
    "0 & 0 & 1 & 0 & 0\\\\\n",
    "0 & 0 & 0 & 1 & 0\n",
    "\\end{pmatrix}\n",
    "\\end{equation}\n",
    "\n",
    "\\begin{equation}\n",
    "G_2=\n",
    "\\begin{pmatrix}\n",
    "1 & 0 & 0 & 1\\\\\n",
    "0 & 1 & 0 & 1\\\\\n",
    "0 & 0 & 1 & 0\n",
    "\\end{pmatrix}\n",
    "\\end{equation}\n",
    "\n",
    "\\begin{equation}\n",
    "G_3=\n",
    "\\begin{pmatrix}\n",
    "\\begin{pmatrix}\n",
    "1 & 0 & 0 & 1\\\\\n",
    "0 & 1 & 0 & 1\\\\\n",
    "0 & 0 & 1 & 0\n",
    "\\end{pmatrix} &\n",
    "\\begin{pmatrix}\n",
    "0 & 0 & 0 & 0\\\\\n",
    "0 & 0 & 0 & 0\\\\\n",
    "0 & 0 & 0 & 0\n",
    "\\end{pmatrix} &\n",
    "\\begin{pmatrix}\n",
    "0 & 0 & 0 & 0\\\\\n",
    "0 & 0 & 0 & 0\\\\\n",
    "0 & 0 & 0 & 0\n",
    "\\end{pmatrix} &\n",
    "\\begin{pmatrix}\n",
    "0 & 0 & 0 & 0\\\\\n",
    "0 & 0 & 0 & 0\\\\\n",
    "0 & 0 & 0 & 0\n",
    "\\end{pmatrix} &\n",
    "\\begin{pmatrix}\n",
    "1 & 0 & 0 & 1\\\\\n",
    "0 & 1 & 0 & 1\\\\\n",
    "0 & 0 & 1 & 0\n",
    "\\end{pmatrix} \\\\\n",
    "\\begin{pmatrix}\n",
    "0 & 0 & 0 & 0\\\\\n",
    "0 & 0 & 0 & 0\\\\\n",
    "0 & 0 & 0 & 0\n",
    "\\end{pmatrix} &\n",
    "\\begin{pmatrix}\n",
    "1 & 0 & 0 & 1\\\\\n",
    "0 & 1 & 0 & 1\\\\\n",
    "0 & 0 & 1 & 0\n",
    "\\end{pmatrix} &\n",
    "\\begin{pmatrix}\n",
    "0 & 0 & 0 & 0\\\\\n",
    "0 & 0 & 0 & 0\\\\\n",
    "0 & 0 & 0 & 0\n",
    "\\end{pmatrix} &\n",
    "\\begin{pmatrix}\n",
    "0 & 0 & 0 & 0\\\\\n",
    "0 & 0 & 0 & 0\\\\\n",
    "0 & 0 & 0 & 0\n",
    "\\end{pmatrix} &\n",
    "\\begin{pmatrix}\n",
    "1 & 0 & 0 & 1\\\\\n",
    "0 & 1 & 0 & 1\\\\\n",
    "0 & 0 & 1 & 0\n",
    "\\end{pmatrix} \\\\\n",
    "\\begin{pmatrix}\n",
    "0 & 0 & 0 & 0\\\\\n",
    "0 & 0 & 0 & 0\\\\\n",
    "0 & 0 & 0 & 0\n",
    "\\end{pmatrix} &\n",
    "\\begin{pmatrix}\n",
    "0 & 0 & 0 & 0\\\\\n",
    "0 & 0 & 0 & 0\\\\\n",
    "0 & 0 & 0 & 0\n",
    "\\end{pmatrix} &\n",
    "\\begin{pmatrix}\n",
    "1 & 0 & 0 & 1\\\\\n",
    "0 & 1 & 0 & 1\\\\\n",
    "0 & 0 & 1 & 0\n",
    "\\end{pmatrix} &\n",
    "\\begin{pmatrix}\n",
    "0 & 0 & 0 & 0\\\\\n",
    "0 & 0 & 0 & 0\\\\\n",
    "0 & 0 & 0 & 0\n",
    "\\end{pmatrix} &\n",
    "\\begin{pmatrix}\n",
    "0 & 0 & 0 & 0\\\\\n",
    "0 & 0 & 0 & 0\\\\\n",
    "0 & 0 & 0 & 0\n",
    "\\end{pmatrix} \\\\\n",
    "\\begin{pmatrix}\n",
    "0 & 0 & 0 & 0\\\\\n",
    "0 & 0 & 0 & 0\\\\\n",
    "0 & 0 & 0 & 0\n",
    "\\end{pmatrix} &\n",
    "\\begin{pmatrix}\n",
    "0 & 0 & 0 & 0\\\\\n",
    "0 & 0 & 0 & 0\\\\\n",
    "0 & 0 & 0 & 0\n",
    "\\end{pmatrix} &\n",
    "\\begin{pmatrix}\n",
    "0 & 0 & 0 & 0\\\\\n",
    "0 & 0 & 0 & 0\\\\\n",
    "0 & 0 & 0 & 0\n",
    "\\end{pmatrix} &\n",
    "\\begin{pmatrix}\n",
    "1 & 0 & 0 & 1\\\\\n",
    "0 & 1 & 0 & 1\\\\\n",
    "0 & 0 & 1 & 0\n",
    "\\end{pmatrix} &\n",
    "\\begin{pmatrix}\n",
    "0 & 0 & 0 & 0\\\\\n",
    "0 & 0 & 0 & 0\\\\\n",
    "0 & 0 & 0 & 0\n",
    "\\end{pmatrix} \\\\\n",
    "\\end{pmatrix}\n",
    "\\end{equation}"
   ],
   "metadata": {
    "id": "IeZZLDbCVl0w"
   }
  },
  {
   "cell_type": "markdown",
   "source": [
    "## Problem 3\n",
    "\n",
    "I tried to do this exercise a hundred million times but I still don't know how to get the Trellis from either generator matrix or parity check matrix. The only thing I did was going from generator to parity check matrix, and then I got stuck there."
   ],
   "metadata": {
    "id": "a3gZByQMXIfA"
   }
  },
  {
   "cell_type": "markdown",
   "source": [
    "### Construct the minimal code trellis.\n",
    "\n",
    "\\begin{equation}\n",
    "\\begin{pmatrix}\n",
    "1 & 1 & 1 & 1 & 0 & 0 & 0\\\\\n",
    "0 & 1 & 0 & 1 & 1 & 0 & 1\\\\\n",
    "0 & 1 & 1 & 0 & 1 & 1 & 0\n",
    "\\end{pmatrix}≡\n",
    "\\begin{pmatrix}\n",
    "1 & 1 & 1 & 1 & 0 & 0 & 0\\\\\n",
    "0 & 1 & 0 & 1 & 1 & 0 & 1\\\\\n",
    "0 & 0 & 1 & 1 & 0 & 1 & 1\n",
    "\\end{pmatrix}\n",
    "\\end{equation}\n",
    "\n",
    "* Active row 1, span 3\n",
    "* Active row 2, span 5\n",
    "* Active row 3, span 4\n",
    "\n",
    "![](img_7.png)\n",
    "\n",
    "\n"
   ],
   "metadata": {
    "id": "lbTOGHLoXKri"
   }
  },
  {
   "cell_type": "markdown",
   "source": [
    "### What is the state complexity of the constructed trellis?\n",
    "\n",
    "$min=\\{2^k, 2^{n-k}\\} = \\{2^3, 2^{7-3}\\} = 2^3 = 8$\n"
   ],
   "metadata": {
    "id": "KL56s3GGXQk4"
   }
  },
  {
   "cell_type": "markdown",
   "source": [
    "### Decode the received vector $y = (1011101)$ by using the Viterby algorithm.\n",
    "\n",
    "![](img_8.png)\n",
    "\n",
    "The decoded codeword is: 1011001\n"
   ],
   "metadata": {
    "id": "sytrI_pyXW_Q"
   }
  },
  {
   "cell_type": "markdown",
   "source": [
    "## Problem 4"
   ],
   "metadata": {
    "id": "Yr68W1jhXkMj"
   }
  },
  {
   "cell_type": "markdown",
   "source": [
    "### Write down a generator matrix of the code in polynomial and binary forms.\n",
    "\n",
    "\\begin{equation}\n",
    "G(D) =\n",
    "\\begin{pmatrix}\n",
    "D^2 & 1+D+D^2\\\\\n",
    "\\end{pmatrix}\n",
    "\\end{equation}\n",
    "\n",
    "\\begin{equation}\n",
    "G(D) =\n",
    "\\begin{pmatrix}\n",
    "(01) & (01) & (11) & ... & ... & ... & (00) & ...\\\\\n",
    "(00) & (01) & (01) & (11) & ... & ... &(00) & ...\\\\\n",
    "(00) & (00) & (01) & (01) & (11) & ... & (00) & ...\\\\\n",
    "... & ... & ... & ... & ... & ... & ... & ...\\\\\n",
    "... & ... & ... & ... & ... & ... & ... & ...\\\\\n",
    "\\end{pmatrix}\n",
    "\\end{equation}"
   ],
   "metadata": {
    "id": "eNxWrkddXnuc"
   }
  },
  {
   "cell_type": "markdown",
   "source": [
    "### Draw the encoder scheme\n",
    "\n",
    "![](img_6.png)\n"
   ],
   "metadata": {
    "id": "nxh3W7KAYzd5"
   }
  },
  {
   "cell_type": "markdown",
   "source": [
    "### Draw the trellis diagram\n",
    "Based on this, I constructed the trellis diagram:\n",
    "\n",
    "![](img_5.png)\n",
    "\n",
    "The diagram continues..."
   ],
   "metadata": {
    "id": "vhsxIFR9Y1bC"
   }
  },
  {
   "cell_type": "markdown",
   "source": [
    "### Find the free distance of the code by using the Viterby algorithm.\n",
    "![](img_4.png)"
   ],
   "metadata": {
    "id": "qh_Pi_fSfCxp"
   }
  },
  {
   "cell_type": "markdown",
   "source": [
    "## Problem 5"
   ],
   "metadata": {
    "id": "WLNunYZ-jUOi"
   }
  },
  {
   "cell_type": "markdown",
   "source": [
    "### For the convolutional code determined by the generator polynomials $(4, 7)$ (octal form) find weight enumerator $T(D)$. Determine free distance of the code by using $T(D)$. Compare with free distance found in Problem 4\n",
    "\n",
    "![](img_2.png)\n",
    "$g_0 = g_1(D)D^2$\n",
    "\n",
    "$g_1 = g_2(D)D + g_3(D)D$\n",
    "\n",
    "$g_2 = D + g_1(D)D$\n",
    "\n",
    "$g_3 = g_2(D) + g_3(D)D^2$\n",
    "\n",
    "$g_1 = D^2 + g_1D^2 + g_3D$\n",
    "\n",
    "$g_3 = D + g_1D + g_3D^2$\n",
    "\n",
    "$g_1(1 - D^2) - g_3D = D^2$\n",
    "\n",
    "$-g_1 + g_3(1 - D^2) = D$\n",
    "\n",
    "$g_1(D) = \\frac{D^2 - D^4 - D}{1 + D^4 - D^2}$\n",
    "\n",
    "$g_0(D) = \\frac{D^4 - D^6 - D^3}{1 + D^4 - D2} = T(D)$\n"
   ],
   "metadata": {
    "id": "nTufTtB7jV8p"
   }
  },
  {
   "cell_type": "markdown",
   "source": [
    "### Check if the polynomials $(1 + D + D^2)$, $(1 + D^2 + D^4)$ define a catastrophic encoder of a rate $1/2$ concolutional code. Explain your answer.\n",
    "\n",
    "![](img.png)\n",
    "$GCD((1 + D + D^2),(1 + D^2 + D^4)) = 1$\n",
    "\n",
    "![](img_1.png)\n",
    "As the GCD is 1, the encoder cannot be catastrophic."
   ],
   "metadata": {
    "id": "L2GpgaFvl6w_"
   }
  },
  {
   "metadata": {
    "ExecuteTime": {
     "end_time": "2024-12-23T17:07:19.600099Z",
     "start_time": "2024-12-23T17:07:14.657138Z"
    }
   },
   "cell_type": "code",
   "source": "!jupyter nbconvert --to pdf --embed-images HW5.ipynb",
   "outputs": [
    {
     "name": "stdout",
     "output_type": "stream",
     "text": [
      "[NbConvertApp] Converting notebook HW5.ipynb to pdf\r\n",
      "[NbConvertApp] Writing 30935 bytes to notebook.tex\r\n",
      "[NbConvertApp] Building PDF\r\n",
      "[NbConvertApp] Running xelatex 3 times: ['xelatex', 'notebook.tex', '-quiet']\r\n",
      "[NbConvertApp] Running bibtex 1 time: ['bibtex', 'notebook']\r\n",
      "[NbConvertApp] WARNING | bibtex had problems, most likely because there were no citations\r\n",
      "[NbConvertApp] PDF successfully created\r\n",
      "[NbConvertApp] Writing 320118 bytes to HW5.pdf\r\n"
     ]
    }
   ],
   "execution_count": 1
  }
 ]
}
