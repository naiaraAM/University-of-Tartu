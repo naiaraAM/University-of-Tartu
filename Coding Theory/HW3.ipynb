{
 "nbformat": 4,
 "nbformat_minor": 0,
 "metadata": {
  "colab": {
   "provenance": [],
   "authorship_tag": "ABX9TyO8KopCAE3+mejqPibt7JqA"
  },
  "kernelspec": {
   "name": "python3",
   "display_name": "Python 3 (ipykernel)",
   "language": "python"
  },
  "language_info": {
   "name": "python"
  }
 },
 "cells": [
  {
   "cell_type": "markdown",
   "source": [
    "# Homework 3 - Naiara Alonso Montes"
   ],
   "metadata": {
    "id": "vvbqkO63BHJQ"
   }
  },
  {
   "cell_type": "markdown",
   "source": [
    "## Problem 1"
   ],
   "metadata": {
    "id": "EUZEm9A1BKuQ"
   }
  },
  {
   "cell_type": "markdown",
   "source": [
    "### Write down the generator polynomial and its corresponding check polynomial.\n",
    "\n",
    "Acording to the matrix:\n",
    "\n",
    "$$g(x) = 1 + x^2 + x^3$$\n",
    "\n",
    "The check polynomial is:\n",
    "\n",
    "$$h(x) = \\frac{x^n - 1}{g(x)}$$\n",
    "Where $n$ is equal to 7, so\n",
    "\n",
    "$$h(x) = \\frac{x^7-1}{x^3+x^2+1} = x^4+x^3+x^2+1$$"
   ],
   "metadata": {
    "id": "0W0sRa-kBMwx"
   }
  },
  {
   "cell_type": "markdown",
   "source": [
    "### Find the code rate, length and minimum distance\n",
    "\n",
    "Code rate: $\\frac{k}{n} = \\frac{4}{7}$\n",
    "\n",
    "Code legth is $n = 2^{deg(g(x))} - 1 = 2^3 - 1 = 7$\n",
    "\n",
    "Minimum distance, as $g(x)$ has 3 terms, $d ≤ 3$"
   ],
   "metadata": {
    "id": "0_ifhRzbB4wt"
   }
  },
  {
   "cell_type": "markdown",
   "source": [
    "### Write down the parity check matrix of the code\n",
    "\n",
    "\\begin{equation}\n",
    "H =\n",
    "\\begin{pmatrix}\n",
    "1 & 0 & 1 & 1 & 1 & 0 & 0 \\\\\n",
    "0 & 1 & 0 & 1 & 1 & 1 & 0 \\\\\n",
    "0 & 0 & 1 & 0 & 1 & 1 & 1\n",
    "\\end{pmatrix}\n",
    "\\end{equation}"
   ],
   "metadata": {
    "id": "W1Q-H1P2CdYk"
   }
  },
  {
   "cell_type": "markdown",
   "source": [
    "### Compare the code parameters with the Griesmer bound\n",
    "\n",
    "$d_G → n ≥ ∑_{i = 0}^{k - 1}⌈\\frac{d}{2^i}⌉$\n",
    "\n",
    "| $d$ | $d_G$ |\n",
    "| - | - |\n",
    "| 0 | 0 |\n",
    "| 1 | 4 |\n",
    "| 2 | 5 |\n",
    "| 3 | 7 |\n",
    "| 4 | 8 |\n",
    "\n",
    "$d_G = 7$ (on the original solution I missmatched concepts)"
   ],
   "metadata": {
    "id": "0h0LP3hsCiRj"
   }
  },
  {
   "cell_type": "markdown",
   "source": [
    "## Problem 2"
   ],
   "metadata": {
    "id": "0I6HDPa6Cp9k"
   }
  },
  {
   "cell_type": "markdown",
   "source": [
    "### For the extension field $GF(2^5)$ constructed by using primitive polynomial $x^5 + x^2 + 1$ (see Homework  assigment 2) find minimal polynomial for $α^3$ and $α^5$, where $α$ is primitive element.\n",
    "\n",
    "**Case $α^3$**\n",
    "$$(x + α^3)(x + α^6)(x + α^{12})(x + α^{24})(x + α^{17})$$\n",
    "$$(x^2 + α^{1}x + α^{9})(x^2 + α^{4}x + α^{5})(x + α^{17})$$\n",
    "$$x^5 + x^4 + x^3 +x^2 + 1$$\n",
    "\n",
    "**Case $α^5$**\n",
    "$$(x + α^5)(x + α^{10})(x + α^{20})(x + α^{9})(x + α^{18})$$\n",
    "$$(x^2 + α^{7}x + α^{15})(x^2 + α^{28}x + α^{29})(x + α^{18})$$\n",
    "$$x^5 + x^4 + x^2 + x + 1$$"
   ],
   "metadata": {
    "id": "Yytex_obCr5h"
   }
  },
  {
   "cell_type": "markdown",
   "source": [
    "## Problem 3"
   ],
   "metadata": {
    "id": "WfiVNo72GQS3"
   }
  },
  {
   "cell_type": "markdown",
   "source": [
    "### A BCH code of length 31 correcting 2 errors is used for transmitting messages. The primitive polynomial $p(x) = x^5 + x^2 + 1$ was used for constructing the code. At the output we observe the sequence $y = 0101000001110101010011001111000$ (the smallest degree is the first). Find the decoded codeword.\n",
    "\n",
    "$GF(2^5), t = 2$\n",
    "\n",
    "$g(x) = m_1(x)m_{2t-1}(x) = m_{1}(x)m_{3}(x)$\n",
    "\n",
    "$b(x) = x + x^3 + x^9 + x^{10} + x^{11} + x^{13} + x^{15} + x^{17} + x^{20} + x^{21} + x^{24} + x^{25} + x^{26} + x^{27}$\n",
    "\n",
    "$s_1 = α + α^3 + α^9 + α^{10} + α^{11} + α^{13} + α^{15} + α^{17} + α^{20} + α^{21} + α^{24} + α^{25} + α^{26} + α^{27} = α^25$\n",
    "\n",
    "$s_3 = α^{3} + α^9 + α^{27} + α^{30} + α^{2} + α^{8} + α^{14} + α^{20} + α^{29} + α + α^{10} + α^{13} + α^{16} + α^{19} = α^3$\n",
    "\n",
    "$\\left \\{\n",
    "\\begin{array}{rr}\n",
    "s_1 = α^i + α^j \\\\\n",
    "s_3 = α^{3i} + α^{3j}\n",
    "\\end{array}\n",
    "\\right .$\n",
    "\n",
    "$α^i = x_1, a^j = x_2$\n",
    "\n",
    "$\\left \\{\n",
    "\\begin{array}{rr}\n",
    "x_1 + x_2 = α^{25} \\\\\n",
    "x_{1}^{3} + x_{2}^{3} = α^3\n",
    "\\end{array}\n",
    "\\right .$\n",
    "\n",
    "$(x_1 + x_2)^2 = S_1^2$\n",
    "\n",
    "$(x_1^3 + x_2^3)/(x_1 + x_2) = x_1^2 + x_2^2 + x_1x_2 = s_2^2 + x_1x_2$\n",
    "\n",
    "$\\left \\{\n",
    "\\begin{array}{rr}\n",
    "x_1 + x_2 = α^{25} \\\\\n",
    "x_1x_2 = s_3 / s_1 - s_1^2\n",
    "\\end{array}\n",
    "\\right .$\n",
    "\n",
    "$\\left \\{\n",
    "\\begin{array}{rr}\n",
    "x_1 + x_2 = α^{25} \\\\\n",
    "x_1x_2 = α^3 / α^{25} + α^{19} = α^{13}\n",
    "\\end{array}\n",
    "\\right .$\n",
    "\n",
    "$x^2 + α^{25}x + \\alpha^{13} = 0$\n",
    "\n",
    "Now I will substitue x with $α^0$ to $α^{30}$ to find the roots of the polynomial.\n",
    "\n",
    "The roots are $α^{21}$ and $α^{23}$ and its inversese $α^{10}$ and $α^{8}$ respectively. The errors are in position 10 and 8, the decoded codeword is then:\n",
    "\n",
    "$c = 0101000011010101010011001111000$"
   ],
   "metadata": {
    "id": "C3SUrzpTGUFG"
   }
  },
  {
   "cell_type": "markdown",
   "source": [
    "## Problem 4"
   ],
   "metadata": {
    "id": "8J13JmgtN0xe"
   }
  },
  {
   "cell_type": "markdown",
   "source": [
    "### Find the generator polynomial of the length $n = 31$ of primitive BCH code correcting 3 errors.\n",
    "\n",
    "$t = d - 1 ⇒ 3 = d - 1 ⇒ d = 4$\n",
    "\n",
    "Find primitive of field:\n",
    "\n",
    "$2^1 = 2, 2^2 = 4, 2^3 = 8, 2^4 = 16, 2^5 = 1$\n",
    "\n",
    "$3^1 = 3, 3^2 = 9, 3^3 = 27, 3^4 = 19, 3^5 = 26, 3^6 = 16, 3^7 = 17, 3^8 = 20, 3^9 = 29, 3^{10} = 25,$\n",
    "\n",
    "$3^{11} = 13, 3^{12} = 8, 3^{13} = 24, 3^{14} = 10, 3^{15} = 30, 3^{16} = 28, 3^{17} = 22, 3^{18} = 4, 3^{19} = 12, 3^{20} = 5,$\n",
    "\n",
    "$3^{21} = 15, 3^{22} = 14, 3^{23} = 11, 3^{24} = 2, 3^{25} =6, 3^{26} = 18, 3^{27} = 23, 3^{28} = 7, 3^{29} = 21, 3^{30} = 1$\n",
    "\n",
    "3 is primitive of field\n",
    "\n",
    "$g(x) = (x - α^3)(x - α^9)(x - α^{27}) = x^3 + α^{25}x^2 + α^{25}x + α^8$"
   ],
   "metadata": {
    "id": "mHdUfY8mN39S"
   }
  },
  {
   "cell_type": "markdown",
   "source": [
    "### The number $2^m - 1, m = 10$ can be factorized as 1023=33$×$31. Let $n = 33$, find cyclotonic classes of modulo $n$\n",
    "\n",
    "$C_0 = \\{0\\}, m = 10$\n",
    "\n",
    "$C_1 = \\{1, 2, 4, 8, 16, 32, 31, 29, 25, 17\\}, m = 10$\n",
    "\n",
    "$C_2 = \\{3, 6, 12, 24, 15, 30, 27, 21, 9, 18\\}, m = 10$\n",
    "\n",
    "$C_5 = \\{5, 10, 20, 7, 14, 28, 23, 13, 26, 19\\}, m = 10$\n",
    "\n",
    "$C_{11} = \\{11, 22\\}, m = 2$"
   ],
   "metadata": {
    "id": "wNUDiYd2Qnew"
   }
  },
  {
   "cell_type": "markdown",
   "source": [
    "### Find parameters of BCH code of length $n = 33$ (dimesion, design distance) with generator polynomial $g(x) = m_1(x)m_3(x)$, where $m_i(x)$ is minimal polynomial of $β = α^{31}$ in GF($2^{10}$), $α$ is a primitive element of GF($2^{10}$)\n",
    "\n",
    "| Powers                      | $g(x)$         | $k = n - deg(g(x))$ | Distance |\n",
    "| --------------------------- | -------------- | ------------------- | - |\n",
    "|1, 2, 3, 4 // 29, 30, 31, 32 | $m_1(x)m_3(x)$ | 33 - 20 = 13         | 5 |"
   ],
   "metadata": {
    "id": "cNylCxtvRkhN"
   }
  },
  {
   "cell_type": "markdown",
   "source": [
    "## Problem 5"
   ],
   "metadata": {
    "id": "D5toMoGiS0zC"
   }
  },
  {
   "cell_type": "markdown",
   "source": [
    "### Construct a generator polynomial of the RS-code over GF($2^3$) modulo $p(x) = x^3 + x + 1$ correcting 2 errors\n",
    "\n",
    "Length $n = q - 1 = 8 - 1 = 7$\n",
    "\n",
    "Distance  $d = 2t + 1 = 2×2 + 1 = 5$\n",
    "\n",
    "$b = 1$\n",
    "\n",
    "$g(x) =m_b(x)m_{b + 1}()...m_{b + d -2}(x)=$\n",
    "\n",
    "$m_1(x)m_2(x)m_3(x)m_4(x)=$\n",
    "\n",
    "$(x - α^1)(x - α^2)(x - α^3)(x - α^4) = $\n",
    "\n",
    "$(x^2 + α^4x + α^3)(x^2 + α^6x + α^0) = $\n",
    "\n",
    "$g(x) = x^4 + α^3x^3 + x^2 + αx + α^3$\n",
    "\n",
    "\n"
   ],
   "metadata": {
    "id": "UhLXNRWxS5u_"
   }
  },
  {
   "cell_type": "markdown",
   "source": [
    "### Find the code rate, length, and minimum distance of the RS code\n",
    "\n",
    "Length: 7\n",
    "\n",
    "k $= -d + n + 1 = -5 + 7 + 1 = 3$\n",
    "\n",
    "Code rate: $\\frac{k}{n} = \\frac{3}{7}$\n",
    "\n",
    "Distance $ d = 5$"
   ],
   "metadata": {
    "id": "teFvjkEyTrIa"
   }
  },
  {
   "cell_type": "markdown",
   "source": [
    "### Write down the parity-check matrix of the RS code\n",
    "\n",
    "\\begin{equation}\n",
    "H =\n",
    "\\begin{pmatrix}\n",
    "1 & α & α^2 & α^3 & α^4 & α^5 & α^6 \\\\\n",
    "1 & α^3 & α^6 & α^2 & α^5 & α & α^4\n",
    "\\end{pmatrix}\n",
    "\\end{equation}"
   ],
   "metadata": {
    "id": "OuCEc4N6UMP-"
   }
  },
  {
   "cell_type": "markdown",
   "source": [
    "###  Write down the generator matrix of the RS code\n",
    "\n",
    "\\begin{equation}\n",
    "G =\n",
    "\\begin{pmatrix}\n",
    "1 & 0 & 0 & 0 & 1 & 1 & 0 & 0 \\\\\n",
    "0 & 1 & 0 & 0 & 0 & 1 & 1 & 0 \\\\\n",
    "0 & 0 & 1 & 0 & 0 & 0 & 1 & 1\n",
    "\\end{pmatrix}\n",
    "\\end{equation}"
   ],
   "metadata": {
    "id": "gDEyxq57VHw1"
   }
  },
  {
   "metadata": {
    "ExecuteTime": {
     "end_time": "2024-11-14T16:50:06.367666Z",
     "start_time": "2024-11-14T16:49:58.538859Z"
    }
   },
   "cell_type": "code",
   "source": "!jupyter nbconvert --to pdf HW3.ipynb",
   "outputs": [
    {
     "name": "stdout",
     "output_type": "stream",
     "text": [
      "[NbConvertApp] Converting notebook HW3.ipynb to pdf\r\n",
      "[NbConvertApp] Writing 66429 bytes to notebook.tex\r\n",
      "[NbConvertApp] Building PDF\r\n",
      "[NbConvertApp] Running xelatex 3 times: ['xelatex', 'notebook.tex', '-quiet']\r\n",
      "[NbConvertApp] Running bibtex 1 time: ['bibtex', 'notebook']\r\n",
      "[NbConvertApp] WARNING | bibtex had problems, most likely because there were no citations\r\n",
      "[NbConvertApp] PDF successfully created\r\n",
      "[NbConvertApp] Writing 67976 bytes to HW3.pdf\r\n"
     ]
    }
   ],
   "execution_count": 2
  }
 ]
}
