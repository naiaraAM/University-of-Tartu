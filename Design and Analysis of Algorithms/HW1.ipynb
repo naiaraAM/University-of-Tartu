{
 "cells": [
  {
   "cell_type": "markdown",
   "id": "4ef0c467bb973a19",
   "metadata": {},
   "source": [
    "# Homework 1\n",
    "## Naiara Alonso Montes"
   ]
  },
  {
   "cell_type": "markdown",
   "id": "e24955a0",
   "metadata": {},
   "source": [
    "### Problem 1\n",
    "*For each pair of functions, indicate which of the following relations hold: $f(n) = O(g(n))$, $f(n) = o(g(n))$, $f(n) = Ω(g(n))$, or $f(n) = Θ(g(n))$. Justify your answer.*\n",
    "\n",
    "(a) $f(n) = n^2 + n - 100$ and $g(n) = 100n^2 + 1000$;\n",
    "\n",
    "(b) $f(n) = \\frac{1}{n} + 5$ and $g(n) = 1$;\n",
    "\n",
    "(c) $f(n) = n\\log_{2}n$ and $g(n) = \\frac{n^2}{\\sqrt{n}\\log_{2}n}$;\n",
    "\n",
    "(d) $f(n) = 5^n$ and $g(n) = 2^{2n}$.\n",
    "\n",
    "\n",
    "I will solve this relations using limits:\n",
    "\n",
    "#### Case a\n",
    "$$\\lim_{n \\to ∞} \\frac{f(n)}{g(n)} = \\lim_{n \\to ∞} \\frac{n^2 + n - 1000}{100n^2 + 1000}$$\n",
    "\n",
    "I will divide both numerator and denominator by $n^2$\n",
    "\n",
    "$$\\lim_{n \\to ∞} \\frac{1 + \\frac{1}{n} - \\frac{100}{n^2}}{100 + \\frac{1000}{n^2} }$$\n",
    "All fractions in the form of $\\frac{a}{n^{i}}$ tend to $0$. So:\n",
    "\n",
    "$$\\lim_{n \\to ∞} \\frac{1}{100} = \\frac{1}{100}$$\n",
    "\n",
    "*Solution*: $f(n) = Θg(n))$\n",
    "\n",
    "#### Case b\n",
    "$$\\lim_{n \\to ∞} \\frac{f(n)}{g(n)} = \\lim_{n \\to ∞} \\frac{\\frac{1}{n} + 5}{1}$$\n",
    "Fraction $\\frac{1}{n}$ tends to $0$. So:\n",
    "\n",
    "$$\\lim_{n \\to ∞} \\frac{5}{1} = 5$$\n",
    "\n",
    "*Solution*: $f(n) = Θ(g(n))$\n",
    "\n",
    "#### Case c\n",
    "$$\\lim_{n \\to ∞} \\frac{f(n)}{g(n)} = \\lim_{n \\to ∞} \\frac{n\\log_{2}n}{\\sqrt{2}\\log_{2}n}$$\n",
    "\n",
    "Multiply the complement of the denominator and simplify:\n",
    "\n",
    "$$\\lim_{n \\to ∞} \\frac{n\\log_{2}n⋅\\sqrt{2}\\log_{2}n}{n^{2}} = \\lim_{n \\to ∞} \\frac{n^{\\frac{3}{2}}(\\log_{2}n)^2}{n^{2}} = \\lim_{n \\to ∞} \\frac{(\\log_{2}n)^2}{\\sqrt{2}}$$\n",
    "\n",
    "As denominator domines over numerator for all values of $n$:\n",
    "\n",
    "$$\\lim_{n \\to ∞} \\frac{(\\log_{2}n)^2}{\\sqrt{2}} = 0$$\n",
    "\n",
    "*Solution*: $f(n) = o(g(n))$\n",
    "\n",
    "#### Case d\n",
    "$$\\lim_{n \\to ∞} \\frac{f(n)}{g(n)} = \\lim_{n \\to ∞} \\frac{5^{n}}{2^{2n}}$$\n",
    "\n",
    "We take common factor to $a^n$. So:\n",
    "$$\\lim_{n \\to ∞} (\\frac{5}{4})$$\n",
    "\n",
    "By rule $\\lim_{n \\to ∞}a^{n} = ∞$\n",
    "\n",
    "*Solution*: $f(n) = Ω(g(n))$"
   ]
  },
  {
   "cell_type": "markdown",
   "id": "6aef412d",
   "metadata": {},
   "source": [
    "## Problem 2\n",
    "*Let $G(V, E)$ be an undirected connected finite graph. Consider weight function $w_{1}: E \\to (1,+∞)$ defined on the edges of $G$. Let $T_{1}(V,E_{1})$ be a spanning tree of $G$ which has a minimmun weight with respect to the weight function $w_{1}(e)$.*\n",
    "\n",
    "*Define a new weight function $w_{2}:E \\to \\mathbb{R}^+$ such that $w_{2}(e) = 2w_{1}(e) - 1$ for every $e \\in E$. Prove that $T_{1}(V, E_{1})$ has a minimum weight (among all spanning trees) with respect to the weight function $w_{2}(e)$.*\n",
    "\n",
    "- Edges weight function $w_{2}$ is a linear transformation.\n",
    "- A it is a linear increasing function, the weight order is maintained after $w_{2}(e)$ for all $a \\in E$.\n",
    "- The order of edges will be maintained and the minimun spanning tree will be the same.\n",
    "\n",
    "**Circuit free**\n",
    "\n",
    "* $T_1$ is a tree so it must be circuit free, by definition.\n",
    "\n",
    "**Connected**\n",
    "\n",
    "* $T_1$ is a tree so it must be connected, by definition.\n",
    "\n",
    "**Spanning Tree**\n",
    "\n",
    "* As $T_1$ it is a subgraph of $G$ and contains all vertices $V$, by definition it must be a spanning tree.\n",
    "\n",
    "**Minimmun Spanning Tree**\n",
    "\n",
    "* Let $T_2$ the MST of $G$.\n",
    "\n",
    "* Let $G_2$ be the graph $G$ with function $w_2$ applied for all edges.\n",
    "\n",
    "* Let $T_1$ be the MST of $G_2$.\n",
    "\n",
    "* By Kruskal Algorithm, all edges are added from smallest to highest value to a MST.\n",
    "\n",
    "* If we apply function $w_2$ to $T_2$:\n",
    "\n",
    "$$\\sum_{e \\in T_2}2w_1(e)-1 = \\sum_{e \\in T_1}w(e)$$\n",
    "\n",
    "$$\\text{with function } w \\text{ just returning the weight of an edge}$$\n",
    "\n",
    "* As the sum of edges weight for $T2$ is equal to $T_1$, $T_1$ is a MST of $G$."
   ]
  },
  {
   "cell_type": "markdown",
   "id": "72cae00c",
   "metadata": {},
   "source": [
    "## Problem 3\n",
    "*Let $G(V, E)$ be an undirected connected finite graph with the weight function $w: E \\to \\mathbb{R}^+$. Let $T$ be a minimun spanning tree of $G$. Prove that exists a run of Prim's Algorithm that finds $T$.*\n",
    "\n",
    "I will use induction for this problem:\n",
    "\n",
    "**Base case**\n",
    "- Prim's Algorithm starts with a single vertex.\n",
    "- Since $T$ is a spanning tree, it must contain this vertex.\n",
    "\n",
    "**Induction**\n",
    "- Assume that at some step, the set of $A$ vertices already included in the tree is a subset sepanned by $T$, and all edges are added by Prim's Algorithm.\n",
    "- The next edge to be added must go from vertex of $A$ to $V \\ A$.\n",
    "- By cut property (proved [here](https://www.eecis.udel.edu/~saunders/courses/320/10s/cut-property.pdf)), the smallest weight edge crossing this cut must be on $T$.\n",
    "- Since Prim's Algorithm selects the minimun edge weight of this cut, it will select an edge that is part of $T$.\n",
    "- By induction, at every step of Prim's Algorithm, it will select an edge that it is part of $T$. Therefore, the entire tree $T$ will be constructed by Prim's Algorithm."
   ]
  },
  {
   "cell_type": "code",
   "id": "c6e0e635",
   "metadata": {
    "ExecuteTime": {
     "end_time": "2024-10-01T17:48:52.371315Z",
     "start_time": "2024-10-01T17:48:48.536118Z"
    }
   },
   "source": [
    "# to pdf\n",
    "!jupyter nbconvert --to html HW1.ipynb"
   ],
   "outputs": [
    {
     "name": "stdout",
     "output_type": "stream",
     "text": [
      "[NbConvertApp] Converting notebook HW1.ipynb to html\r\n",
      "[NbConvertApp] Writing 276893 bytes to HW1.html\r\n"
     ]
    }
   ],
   "execution_count": 2
  }
 ],
 "metadata": {
  "kernelspec": {
   "display_name": "Python 3",
   "language": "python",
   "name": "python3"
  },
  "language_info": {
   "codemirror_mode": {
    "name": "ipython",
    "version": 2
   },
   "file_extension": ".py",
   "mimetype": "text/x-python",
   "name": "python",
   "nbconvert_exporter": "python",
   "pygments_lexer": "ipython2",
   "version": "3.12.3"
  }
 },
 "nbformat": 4,
 "nbformat_minor": 5
}
