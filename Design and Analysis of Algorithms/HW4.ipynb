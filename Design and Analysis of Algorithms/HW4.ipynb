{
 "nbformat": 4,
 "nbformat_minor": 0,
 "metadata": {
  "colab": {
   "provenance": []
  },
  "kernelspec": {
   "name": "python3",
   "display_name": "Python 3 (ipykernel)",
   "language": "python"
  },
  "language_info": {
   "name": "python"
  }
 },
 "cells": [
  {
   "cell_type": "markdown",
   "source": [
    "# Homework 4 - Design and Analysis of Algorithms - Naiara Alonso Montes"
   ],
   "metadata": {
    "id": "rkqBHvvBIqxF"
   }
  },
  {
   "cell_type": "markdown",
   "source": [
    "## Problem 1"
   ],
   "metadata": {
    "id": "3gDFlhEjIzL8"
   }
  },
  {
   "cell_type": "markdown",
   "source": [
    "### Original problem\n",
    "\n",
    "\\begin{gather*}\n",
    "\\min_\\quad 2x_1 - 3x_2 + 4x_3 - x_4 \\\\\n",
    "\\begin{aligned}\n",
    "{s.t.}\\quad x_1 + 2x_2 -x_4 &≤3\\\\\n",
    "            2x_1 + x_2 - 3x_3 &≥ -1\\\\\n",
    "            x_1 - x_2 + 3x_3 + 3x_4 &=2\\\\\n",
    "            x_1 &≥0 \\\\\n",
    "            x_4 &≥0\n",
    "\\end{aligned}\n",
    "\\end{gather*}"
   ],
   "metadata": {
    "id": "PrI337bnRHE2"
   }
  },
  {
   "cell_type": "markdown",
   "source": [
    "### Process\n",
    "\n",
    "1. From $min$ to $max$\n",
    "\n",
    "\\begin{gather*}\n",
    "\\max_\\quad -2x_1 + 3x_2 - 4x_3 + x_4 \\\\\n",
    "\\begin{aligned}\n",
    "{s.t.}\\quad x_1 + 2x_2 -x_4 &≤3\\\\\n",
    "            2x_1 + x_2 - 3x_3 &≥ -1\\\\\n",
    "            x_1 - x_2 + 3x_3 + 3x_4 &=2\\\\\n",
    "            x_1 &≥0 \\\\\n",
    "            x_4 &≥0\n",
    "\\end{aligned}\n",
    "\\end{gather*}\n",
    "\n",
    "2. From equality to inequality\n",
    "\n",
    "\\begin{gather*}\n",
    "\\max_\\quad -2x_1 + 3x_2 - 4x_3 + x_4 \\\\\n",
    "\\begin{aligned}\n",
    "{s.t.}\\quad x_1 + 2x_2 -x_4 &≤3\\\\\n",
    "            2x_1 + x_2 - 3x_3 &≥ -1\\\\\n",
    "            x_1 - x_2 + 3x_3 + 3x_4 &\\le2\\\\\n",
    "            x_1 - x_2 + 3x_3 + 3x_4 &\\ge2\\\\\n",
    "            x_1 &≥0 \\\\\n",
    "            x_4 &≥0\n",
    "\\end{aligned}\n",
    "\\end{gather*}\n",
    "\n",
    "3. From *greater than* to *lower than*\n",
    "\n",
    "\\begin{gather*}\n",
    "\\max_\\quad -2x_1 + 3x_2 - 4x_3 + x_4 \\\\\n",
    "\\begin{aligned}\n",
    "{s.t.}\\quad x_1 + 2x_2 -x_4 &≤3\\\\\n",
    "            -2x_1 - x_2 + 3x_3 &\\le 1\\\\\n",
    "            x_1 - x_2 + 3x_3 + 3x_4 &\\le2\\\\\n",
    "            -x_1 + x_2 - 3x_3 - 3x_4 &\\le2\\\\\n",
    "            x_1 &≥0 \\\\\n",
    "            x_4 &≥0\n",
    "\\end{aligned}\n",
    "\\end{gather*}\n",
    "\n",
    "4. From *unbounded* to *bounded*\n",
    "\n",
    "$$x_1; \\text{ }x_2 = z_2 - z_3; \\text{ }x_4 = z_4 - z_5; \\text{ }x_4 = z_6$$\n",
    "\n",
    "\\begin{gather*}\n",
    "\\max_\\quad -2z_1 + 3z_2 -3z_3 - 4z_4  + 4z_5 + z_6 \\\\\n",
    "\\begin{aligned}\n",
    "{s.t.}\\quad z_1 + 2z_2 -2z_3 - z_6 &≤3\\\\\n",
    "            -2z_1 - z_2 + z_3 + 3z_4 - 3z_5&\\le 1\\\\\n",
    "            z_1 - z_2 +z_3 + 3z_4 - 3z_5 + 3z_6 &\\le2\\\\\n",
    "            -z_1 + z_2 - z_3 - 3z_4 + 3z_5 - 3z_6 &\\le2\\\\\n",
    "            z_1 &≥0 \\\\\n",
    "            z_2 &≥0 \\\\\n",
    "            z_3 &≥0 \\\\\n",
    "            z_4 &≥0 \\\\\n",
    "            z_5 &≥0 \\\\\n",
    "            z_6 &≥0 \\\\\n",
    "\\end{aligned}\n",
    "\\end{gather*}\n",
    "\n",
    "5. In matrix representation\n",
    "\n",
    "\\begin{equation}\n",
    "b^T =\n",
    "\\begin{pmatrix}\n",
    "-2 & 3 & -3 & -4 & 4 & 1\n",
    "\\end{pmatrix}\n",
    "\\end{equation}\n",
    "\n",
    "\\begin{equation}\n",
    "b^T =\n",
    "\\begin{pmatrix}\n",
    "3 & 1 & 2 & -2\n",
    "\\end{pmatrix}\n",
    "\\end{equation}\n",
    "\n",
    "\\begin{equation}\n",
    "A =\n",
    "\\begin{pmatrix}\n",
    "1 & 2 & -2 & 0 & 0 & -1 \\\\\n",
    "-2 & -1 & 1 & 3 & -3 & 0 \\\\\n",
    "1 & -1 & 1 & 3 & -3 & 3 \\\\\n",
    "-1 & 1 & -1 & -3 & 3 & -3\n",
    "\\end{pmatrix}\n",
    "\\end{equation}\n",
    "\n",
    "6. Dual problem\n",
    "\n",
    "\\begin{gather*}\n",
    "\\min_\\quad 3y_1 + y_2 + 2y_3 -2y_4 \\\\\n",
    "\\begin{aligned}\n",
    "{s.t.}\\quad y_1 - 2y_2 + y_2 - y_4 &≥ -2 \\\\\n",
    "            2y_1 - y_2 - y_3 + y_4 &≥ 3 \\\\\n",
    "            -2y_1 + y_2 + y_3 - y_4 &≥ -3 \\\\\n",
    "            3y_2 + 3y_3 - 3y_4 &≥ -4 \\\\\n",
    "            -3y_2 - 3y_3 + 3y_4 &≥4 \\\\\n",
    "            -y_1 + 3y_3 - 3y_4 &≥1 \\\\\n",
    "            y_1 &≥0 \\\\\n",
    "            y_2 &≥0 \\\\\n",
    "            y_3 &≥0 \\\\\n",
    "            y_4 &≥0\n",
    "\\end{aligned}\n",
    "\\end{gather*}"
   ],
   "metadata": {
    "id": "Fv0RhstBR2LI"
   }
  },
  {
   "cell_type": "markdown",
   "source": [
    "## Problem 2"
   ],
   "metadata": {
    "id": "KcU69hJkI1aI"
   }
  },
  {
   "cell_type": "markdown",
   "source": [
    "### (a)\n",
    "\n",
    "\\begin{gather*}\n",
    "\\max_\\quad f_{s, a} + f_{s, b} - f_{c, s}\\\\\n",
    "\\begin{aligned}\n",
    "{s.t.}\\quad -f_{s, a} + f_{a, c} + f_{a, t} &≤0\\\\\n",
    "            f_{s, a} - f_{a, c} - f_{a, t} &≤0\\\\\n",
    "            -f_{s, b} + f_{b, c} + f_{b, t} &≤0\\\\\n",
    "            f_{s, b} - f_{b, c} - f_{b, t} &≤0\\\\\n",
    "            -f_{a, c} - f_{b, c} + f_{c, s} + f_{c, t} &≤0\\\\\n",
    "            f_{a, c} + f_{b, c} - f_{c, s} - f_{c, t} &≤0\\\\\n",
    "            f_{s, a} &≤8\\\\\n",
    "            f_{s, b} &≤7\\\\\n",
    "            f_{a, c} &≤4\\\\\n",
    "            f_{b, c} &≤3\\\\\n",
    "            f_{c, s} &≤2\\\\\n",
    "            f_{c, t} &≤2\\\\\n",
    "            f_{a, t} &≤3\\\\\n",
    "            f_{b, t} &≤5\\\\\n",
    "            f_{s, a} &≥0\\\\\n",
    "            f_{s, b} &≥0\\\\\n",
    "            f_{a, c} &≥0\\\\\n",
    "            f_{b, c} &≥0\\\\\n",
    "            f_{c, s} &≥0\\\\\n",
    "            f_{c, t} &≥0\\\\\n",
    "            f_{a, t} &≥0\\\\\n",
    "            f_{b, t} &≥0\\\\\n",
    "\\end{aligned}\n",
    "\\end{gather*}\n",
    "\n",
    "\\begin{equation}\n",
    "c^T=\n",
    "\\begin{pmatrix}\n",
    "1 & 1 & 0 & 0 & -1 & 0 & 0 & 0\n",
    "\\end{pmatrix}\n",
    "\\end{equation}\n",
    "\n",
    "\\begin{equation}\n",
    "b^T=\n",
    "\\begin{pmatrix}\n",
    "0 & 0 & 0 & 0 & 0 & 0 & 8 & 7 & 4 & 3 & 2 & 2 & 3 & 5\n",
    "\\end{pmatrix}\n",
    "\\end{equation}\n",
    "\n",
    "\\begin{equation}\n",
    "A=\n",
    "\\begin{pmatrix}\n",
    "-1 & 0 & 1 & 0 & 0 & 0 & 1 & 0\\\\\n",
    "1 & 0 & -1 & 0 & 0 & 0 & -1 & 0\\\\\n",
    "0 & -1 & 0 & 1 & 0 & 0 & 0 & 1\\\\\n",
    "0 & 1 & 0 & -1 & 0 & 0 & 0 & -1\\\\\n",
    "0 & 0 & -1 & -1 & 1 & 1 & 0 & 0\\\\\n",
    "0 & 0 & 1 & 1 & -1 & -1 & 0 & 0\\\\\n",
    "1 & 0 & 0 & 0 & 0 & 0 & 0 & 0\\\\\n",
    "0 & 1 & 0 & 0 & 0 & 0 & 0 & 0\\\\\n",
    "0 & 0 & 1 & 0 & 0 & 0 & 0 & 0\\\\\n",
    "0 & 0 & 0 & 1 & 0 & 0 & 0 & 0\\\\\n",
    "0 & 0 & 0 & 0 & 1 & 0 & 0 & 0\\\\\n",
    "0 & 0 & 0 & 0 & 0 & 1 & 0 & 0\\\\\n",
    "0 & 0 & 0 & 0 & 0 & 0 & 1 & 0\\\\\n",
    "0 & 0 & 0 & 0 & 0 & 0 & 0 & 1\\\\\n",
    "\\end{pmatrix}\n",
    "\\end{equation}"
   ],
   "metadata": {
    "id": "hwYgobcYXQlf"
   }
  },
  {
   "cell_type": "markdown",
   "source": [
    "### (b)\n",
    "\n",
    "\\begin{gather*}\n",
    "\\min_\\quad 8y_7 + 7 y_8 + 4y_9 + 3y_{10} + 2y_{11} + 2y_{12} + 3_{13} + 5y_{14}\\\\\n",
    "\\begin{aligned}\n",
    "{s.t.}\\quad -y_1 + y_2 + y_7 &≥ 1\\\\\n",
    "            -y_3 + y_4 + y_8 &≥ 1\\\\\n",
    "            y_1 - y_2 - y_5 + y_6 + y_9 &≥0\\\\\n",
    "            y_3 - y_4 - y_5 + y_6 + y_{10} &≥0\\\\\n",
    "            y_5 - y_6 + y_{11} &≥-1\\\\\n",
    "            y_5 - y_6 + y_{12} &≥0\\\\\n",
    "            y_1 - y_2 + y_{13} &≥0\\\\\n",
    "            y_3 - y_4 + y_{14} &≥0\\\\\n",
    "            y_1 &≥0\\\\\n",
    "            y_2 &≥0\\\\\n",
    "            y_3 &≥0\\\\\n",
    "            y_4 &≥0\\\\\n",
    "            y_5 &≥0\\\\\n",
    "            y_6 &≥0\\\\\n",
    "            y_7 &≥0\\\\\n",
    "            y_8 &≥0\\\\\n",
    "            y_9 &≥0\\\\\n",
    "            y_{10} &≥0\\\\\n",
    "            y_{11} &≥0\\\\\n",
    "            y_{12} &≥0\\\\\n",
    "            y_{13} &≥0\\\\\n",
    "            y_{14} &≥0\\\\\n",
    "\\end{aligned}\n",
    "\\end{gather*}"
   ],
   "metadata": {
    "id": "VBMORzcVaeuN"
   }
  },
  {
   "cell_type": "markdown",
   "source": [
    "### (c)\n",
    "\n",
    "The dual of the general form is the LP for the min cut problem. Using paths we can create the general form. In this LP problem, $E$ is the set of edges and $V$ is the set of vertex.\n",
    "\n",
    "* Definition of variables\n",
    "\n",
    "$$y_e = \\{\\{u, v\\}, ..., \\{n, m\\}\\} ∈ E$$\n",
    "$$x_u = \\{v_a, v_b, ..., v_x\\} ∈ V$$\n",
    "$$x_v = \\{v_a, v_b, ..., v_x\\} ∈ V$$\n",
    "$$x_u \\ne x_v$$\n",
    "$$𝑃\\text{ is the set of paths from }s\\text{ to }t$$\n",
    "\n",
    "In this case, $y_e$ will be equal to 1 if the edge is in a given cut, else if 0.\n",
    "\\begin{gather*}\n",
    "\\min_\\quad ∑_{\\{x_u, x_v\\}} c(\\{x_u, x_v\\})·y_e(\\{x_u, x_v\\}) \\\\\n",
    "\\begin{aligned}\n",
    "{s.t.}\\quad \\sum_{\\{x_u, x_v\\}} y_e(\\{x_u, x_v\\}) &≥ 1 \\text{ for all paths in }𝑃\\text{ from }s\\text{ to }t\\\\\n",
    "y_e(\\{x_u, x_v\\}) &∈[0, 1]\n",
    "\\end{aligned}\n",
    "\\end{gather*}\n",
    "\n",
    "The result of the LP problem will provide the value of the cut."
   ],
   "metadata": {
    "id": "EkrQo24pXTj8"
   }
  },
  {
   "cell_type": "markdown",
   "source": [
    "### (d)\n",
    "\n",
    "By the constraint from the LP problem of the min-cut provided in the previous exercise, if an edge in a path belongs to the a given cut, the result of the constraint must be at least equal to 1, as all edges $y_e$ were asigned with value 1."
   ],
   "metadata": {
    "id": "U4ZLFEjqc104"
   }
  },
  {
   "cell_type": "markdown",
   "source": [
    "## Problem 3"
   ],
   "metadata": {
    "id": "rttY2y4aI5GM"
   }
  },
  {
   "cell_type": "markdown",
   "source": [
    "### (a) and (b)\n",
    "\n",
    "$$x_1= \\text{type I};\\text{ } x_1= \\text{type II}$$\n",
    "\n",
    "\\begin{gather*}\n",
    "\\max_\\quad 100x_1 + 120x_2 \\\\\n",
    "\\begin{aligned}\n",
    "{s.t.}\\quad 4x_1 + 6x_2  &\\leq  90\\\\\n",
    "                   3x_1 +3x_2  &\\leq  60 \\\\\n",
    "         x_1 &≥0 \\\\\n",
    "         x_2 &≥0\n",
    "\\end{aligned}\n",
    "\\end{gather*}\n",
    "\n",
    "I choose to maximize $x_1$\n",
    "\n",
    "$$x_1=0;\\text{ }x_2=0$$\n",
    "$$y_1=?;\\text{ }y_2=x_2$$\n",
    "$$y_1=60-3x_1+3y_2$$\n",
    "$$x_1 = -\\frac{1}{3}y_1+20-y_2; \\text{ }x_2 = y_2$$\n",
    "\n",
    "$$100⋅(-\\frac{1}{3}y_1+20-y_2)+120y_2 = -\\frac{100}{3}y_1 + 2000 - 100y_2 + 120y_2 = -\\frac{100}{3}y_1 + 20 y_2 + 2000$$\n",
    "$$-\\frac{4}{3}y_1 + 80 - 4y_2 + 6y_2 ≤ 90 = -\\frac{4}{3}y_1 + 2y_2 ≤ 10$$\n",
    "\n",
    "\n",
    "\\begin{gather*}\n",
    "\\max_{y_1,y_2}\\quad 1-\\frac{100}{3}y_1 + 20y_2 + 2000 \\\\\n",
    "\\begin{aligned}\n",
    "{s.t.}\\quad -\\frac{4}{3}y_1 + 2y_2 &≤ 10\\\\\n",
    "                        -y_1 + 6y_2 &≤ 0\\\\\n",
    "                        -\\frac{1}{3}y_1 - y_2 &≥-20\\\\\n",
    "                        y_2&≥0\n",
    "\\end{aligned}\n",
    "\\end{gather*}\n",
    "\n",
    "I choose to maximize $y_2$\n",
    "$$y_1 = 0;\\text{ }y_2=20$$\n",
    "$$z_1=y_1;\\text{ }z_2= 10 + \\frac{4}{3}y_1 -2y_2$$\n",
    "$$y_1 = z_1; \\text{ }y_2 = 5 + \\frac{2}{3}z_1 - \\frac{1}{2}z_2$$\n",
    "\n",
    "$$-\\frac{100}{3}z_1 + 20⋅(5 + \\frac{2}{3}z_1 - \\frac{1}{2}z_2) + 2000 = -20z_1-10z_2 + 100$$\n",
    "\n",
    "It is not possible to maximize anymore\n",
    "\n",
    "$$z_1 =1;\\text{ }z_2 = 0$$\n",
    "$$y_1 = z_1 = 0; \\text{ }y_2 = 5 + \\frac{2}{3}⋅0 - \\frac{1}{2}⋅0 = 5$$\n",
    "$$x_1 = -\\frac{1}{3}⋅0 + 20 - 5 = 15; \\text{ }x_2 = y_2 = 5$$\n",
    "\n",
    "### Solution\n",
    "\n",
    "$x_1 = 15$ and $x_2 = 5$. The constrains are met."
   ],
   "metadata": {
    "id": "KEaTvPafR7Y9"
   }
  },
  {
   "cell_type": "markdown",
   "source": [
    "### (c) and (d)\n",
    "The dual repesentation is:\n",
    "\n",
    "\\begin{gather*}\n",
    "\\min_\\quad 90y_1 + 60y_2 \\\\\n",
    "\\begin{aligned}\n",
    "{s.t.}\\quad 4y_1 + 3y_2  &\\geq  100\\\\\n",
    "                   6y_1 +3y_2  &\\geq  120 \\\\\n",
    "         y_1 &≥0 \\\\\n",
    "         y_2 &≥0\n",
    "\\end{aligned}\n",
    "\\end{gather*}\n",
    "\n",
    "It can be solved using a system of 2 linear equations, and then checking if the constraints are met, in this case the result of the min objective function must be equal to the result of the max function.\n",
    "\n",
    "\\begin{aligned}\n",
    "    &\\quad 4y_1 + 3y_2 = 100  \\\\\n",
    "    &\\quad 6y_1 + 3y_2 =  120\\\\\n",
    "    &\\quad y_2 =  40 - 2y_1\\\\\n",
    "    &\\quad 4y_1 + 3( 40 - 2y_1) = 100  \\\\\n",
    "    &\\quad y_1 =  10\\\\\n",
    "    &\\quad y_2 =  40 - 2(10)\\\\\n",
    "    &\\quad y_2 =  20\\\\\n",
    "\\end{aligned}\n",
    "\n",
    "\n",
    "Both min and max results match."
   ],
   "metadata": {
    "id": "GAomqG0wQ0b5"
   }
  },
  {
   "metadata": {
    "ExecuteTime": {
     "end_time": "2024-11-27T18:48:26.090243Z",
     "start_time": "2024-11-27T18:48:23.872610Z"
    }
   },
   "cell_type": "code",
   "source": "!jupyter nbconvert --to html HW4.ipynb",
   "outputs": [
    {
     "name": "stdout",
     "output_type": "stream",
     "text": [
      "[NbConvertApp] Converting notebook HW4.ipynb to html\r\n",
      "[NbConvertApp] Writing 285300 bytes to HW4.html\r\n"
     ]
    }
   ],
   "execution_count": 5
  }
 ]
}
